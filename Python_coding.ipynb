{
  "nbformat": 4,
  "nbformat_minor": 0,
  "metadata": {
    "colab": {
      "provenance": [],
      "authorship_tag": "ABX9TyPLwcZmdl+PnD7bmpwiYwL+",
      "include_colab_link": true
    },
    "kernelspec": {
      "name": "python3",
      "display_name": "Python 3"
    },
    "language_info": {
      "name": "python"
    }
  },
  "cells": [
    {
      "cell_type": "markdown",
      "metadata": {
        "id": "view-in-github",
        "colab_type": "text"
      },
      "source": [
        "<a href=\"https://colab.research.google.com/github/prajwalDU/Python-coding/blob/main/Python_coding.ipynb\" target=\"_parent\"><img src=\"https://colab.research.google.com/assets/colab-badge.svg\" alt=\"Open In Colab\"/></a>"
      ]
    },
    {
      "cell_type": "code",
      "execution_count": null,
      "metadata": {
        "colab": {
          "base_uri": "https://localhost:8080/"
        },
        "id": "tp80aPkmcUoP",
        "outputId": "0982f7a5-7f9b-47e0-bd66-485f15897533"
      },
      "outputs": [
        {
          "output_type": "stream",
          "name": "stdout",
          "text": [
            "28\n",
            "It is Perfect Number\n"
          ]
        }
      ],
      "source": [
        "# Perfect number or not\n",
        "num = int(input())\n",
        "sum = 0 \n",
        "for i in range(1, num):\n",
        "    if (num % i == 0):\n",
        "        sum = sum + i\n",
        "if (sum == num):\n",
        "    print('It is Perfect Number')\n",
        "else:\n",
        "    print('It is not Perfect Number')"
      ]
    },
    {
      "cell_type": "code",
      "source": [
        "# Paindrome or not\n",
        "string = input()\n",
        "rev_string = reversed(string)\n",
        "if list(string) == list(rev_string):\n",
        "  print('String is a Palindrome')\n",
        "else:\n",
        "  print('String is not a Palindrome')"
      ],
      "metadata": {
        "colab": {
          "base_uri": "https://localhost:8080/"
        },
        "id": "qWwc8zZZgimB",
        "outputId": "fa1532b5-7f9c-46f0-abc0-9936f563c7cf"
      },
      "execution_count": null,
      "outputs": [
        {
          "output_type": "stream",
          "name": "stdout",
          "text": [
            "abcba\n",
            "String is a Palindrome\n"
          ]
        }
      ]
    },
    {
      "cell_type": "code",
      "source": [
        "stra = input()\n",
        "cha = input()\n",
        "\n",
        "st = string.replace(\"cha\",\" \")\n",
        "print(st)"
      ],
      "metadata": {
        "colab": {
          "base_uri": "https://localhost:8080/"
        },
        "id": "VVeGaVO7gijJ",
        "outputId": "fab6c539-1286-4317-a12f-1cb9099b2082"
      },
      "execution_count": null,
      "outputs": [
        {
          "output_type": "stream",
          "name": "stdout",
          "text": [
            "prajwal\n",
            "wa\n",
            "abcba\n"
          ]
        }
      ]
    },
    {
      "cell_type": "code",
      "source": [
        "str = input()\n",
        "ch = input()\n",
        "strl = str.lower()\n",
        "chl = ch.lower()\n",
        "print(strl.replace(chl,\" \"))"
      ],
      "metadata": {
        "id": "kwtDsDXZgigi",
        "colab": {
          "base_uri": "https://localhost:8080/"
        },
        "outputId": "92b14a01-a763-465e-94f4-f42b0a3b003b"
      },
      "execution_count": null,
      "outputs": [
        {
          "output_type": "stream",
          "name": "stdout",
          "text": [
            "prajwal\n",
            "j\n",
            "pra wal\n"
          ]
        }
      ]
    },
    {
      "cell_type": "code",
      "source": [
        "a=int(input())\n",
        "b=int(input())\n",
        "\n",
        "print('value of a is : ', a)\n",
        "print('value of b is : ', b)\n",
        "a, b = b, a\n",
        "print('After swapping')\n",
        "print('value of a is : ', a)\n",
        "print('value of b is : ', b)"
      ],
      "metadata": {
        "id": "IFQXEkcngidw",
        "colab": {
          "base_uri": "https://localhost:8080/"
        },
        "outputId": "491fca6d-cbcd-40ce-f702-4a95a883a0ec"
      },
      "execution_count": null,
      "outputs": [
        {
          "output_type": "stream",
          "name": "stdout",
          "text": [
            "5\n",
            "7\n",
            "value of a is :  5\n",
            "value of b is :  7\n",
            "After swapping\n",
            "value of a is :  7\n",
            "value of b is :  5\n"
          ]
        }
      ]
    },
    {
      "cell_type": "code",
      "source": [
        "color1 = eval(input())\n",
        "color2 = eval(input())\n",
        "output = []\n",
        "for i in color1:\n",
        "  if i in color2:\n",
        "    output.append(i)\n",
        "print(output)"
      ],
      "metadata": {
        "colab": {
          "base_uri": "https://localhost:8080/"
        },
        "id": "8hhePdd40ySI",
        "outputId": "6264cc0e-3409-4510-e690-3637d8ebcef9"
      },
      "execution_count": null,
      "outputs": [
        {
          "output_type": "stream",
          "name": "stdout",
          "text": [
            "[\"Black\", \"Green\", \"White\", \"Pink\"]\n",
            "[\"Red\", \"Green\", \"Orange\", \"White\"]\n",
            "['Green', 'White']\n"
          ]
        }
      ]
    },
    {
      "cell_type": "code",
      "source": [
        "L1 = eval(input())\n",
        "L2 = eval(input())\n",
        "x = [value for value in L1 if value not in L2]\n",
        "y = [value for value in L2 if value not in L1]\n",
        "print('L1-L2 = ', x)\n",
        "print('L2-L1 = ', y)"
      ],
      "metadata": {
        "colab": {
          "base_uri": "https://localhost:8080/"
        },
        "id": "Tc8HnyNO1P4E",
        "outputId": "4aa417ff-1a9f-4ff4-bb78-1eeb397579c9"
      },
      "execution_count": null,
      "outputs": [
        {
          "output_type": "stream",
          "name": "stdout",
          "text": [
            "[\"red\", \"orange\", \"green\", \"blue\", \"white\"]\n",
            "[\"black\", \"yellow\", \"green\", \"blue\"]\n",
            "L1-L2 =  ['red', 'orange', 'white']\n",
            "L2-L1 =  ['black', 'yellow']\n"
          ]
        }
      ]
    },
    {
      "cell_type": "code",
      "source": [
        "add=int(input())\n",
        "mult1=int(input())\n",
        "mult2=int(input())\n",
        "r = lambda a : a + 15\n",
        "print(\"After addition:\", r(add))\n",
        "r = lambda  x, y : x * y\n",
        "print(\"After multiplication:\", r(mult1, mult2))"
      ],
      "metadata": {
        "colab": {
          "base_uri": "https://localhost:8080/"
        },
        "id": "pChuz1gP1P1i",
        "outputId": "6029d9d9-3172-44b2-a222-1bc67d010730"
      },
      "execution_count": null,
      "outputs": [
        {
          "output_type": "stream",
          "name": "stdout",
          "text": [
            "10\n",
            "20\n",
            "4\n",
            "After addition: 25\n",
            "After multiplication: 80\n"
          ]
        }
      ]
    },
    {
      "cell_type": "code",
      "source": [
        "text = eval(input())\n",
        "char = input()\n",
        "\n",
        "res = [idx for idx in text if idx[0].lower() == char.lower()]\n",
        "print('Items start with a from the said list:')\n",
        "print(res)"
      ],
      "metadata": {
        "colab": {
          "base_uri": "https://localhost:8080/"
        },
        "id": "NJEbSqae1Py8",
        "outputId": "a14b889c-111a-4821-df34-636b87000046"
      },
      "execution_count": null,
      "outputs": [
        {
          "output_type": "stream",
          "name": "stdout",
          "text": [
            "['abcd', 'abc', 'bcd', 'bkie', 'cder', 'cdsw', 'sdfsd', 'dagfa', 'acjd']\n",
            "a\n",
            "Items start with a from the said list:\n",
            "['abcd', 'abc', 'acjd']\n"
          ]
        }
      ]
    },
    {
      "cell_type": "code",
      "source": [
        "s= input()\n",
        "ch=input()\n",
        "\n",
        "starts_with = lambda x : True if x.startswith(ch) else False\n",
        "print(starts_with('s'))"
      ],
      "metadata": {
        "colab": {
          "base_uri": "https://localhost:8080/"
        },
        "id": "M4WYzv8b1Pwm",
        "outputId": "e61bcadc-72eb-4d69-d084-3b724ffc37dd"
      },
      "execution_count": null,
      "outputs": [
        {
          "output_type": "stream",
          "name": "stdout",
          "text": [
            "python\n",
            "a\n",
            "False\n"
          ]
        }
      ]
    },
    {
      "cell_type": "code",
      "source": [
        "def prime(n):\n",
        "    np=[]\n",
        "    isprime=[]\n",
        "    for i in range (n+1,n+200):\n",
        "        np.append(i)\n",
        "    for j in np:\n",
        "        val_is_prime = True\n",
        "        for x in range(2,j-1):\n",
        "            if j % x == 0:\n",
        "                val_is_prime = False\n",
        "                break\n",
        "        if val_is_prime:\n",
        "            isprime.append(j)\n",
        "    return min(isprime)"
      ],
      "metadata": {
        "id": "t1SfKww_1Pto"
      },
      "execution_count": null,
      "outputs": []
    },
    {
      "cell_type": "code",
      "source": [
        "prime(48)"
      ],
      "metadata": {
        "colab": {
          "base_uri": "https://localhost:8080/"
        },
        "id": "_2s9HP3N1PrI",
        "outputId": "75127766-da11-4cdc-d108-8ffd8fd7daeb"
      },
      "execution_count": null,
      "outputs": [
        {
          "output_type": "execute_result",
          "data": {
            "text/plain": [
              "53"
            ]
          },
          "metadata": {},
          "execution_count": 9
        }
      ]
    },
    {
      "cell_type": "code",
      "source": [
        "import numpy as np\n",
        "x_1, y_1 = 6, 7\n",
        "x_2, y_2 = 5, 4\n",
        "a=((x_2-x_1) ** 2+(y_2-y_1) ** 2) ** 0.5\n",
        "\n",
        "print(\"The Euclidean Distance between the above given two points 'PQ' =\" , a )"
      ],
      "metadata": {
        "colab": {
          "base_uri": "https://localhost:8080/"
        },
        "id": "8jZs17mi1PoQ",
        "outputId": "56a7d9c7-75b7-425b-a43e-ef11fb49dfb2"
      },
      "execution_count": null,
      "outputs": [
        {
          "output_type": "stream",
          "name": "stdout",
          "text": [
            "The Euclidean Distance between the above given two points 'PQ' = 3.1622776601683795\n"
          ]
        }
      ]
    },
    {
      "cell_type": "code",
      "source": [
        "num = int(input())\n",
        "\n",
        "if num % 2 == 0:\n",
        "  print('prime number', num)\n",
        "else:\n",
        "  print('Not a prime number :', num)"
      ],
      "metadata": {
        "id": "yk3Qi4hG1PmF",
        "colab": {
          "base_uri": "https://localhost:8080/"
        },
        "outputId": "26abc4d0-2ab3-4a29-f6d5-9a7a3136cdb4"
      },
      "execution_count": null,
      "outputs": [
        {
          "output_type": "stream",
          "name": "stdout",
          "text": [
            "9\n",
            "Not a prime number : 9\n"
          ]
        }
      ]
    },
    {
      "cell_type": "code",
      "source": [
        "num = range(1,1000)\n",
        "\n",
        "def test1(num):\n",
        "  return [i for i in num if i%3 == 0]\n",
        "\n",
        "print(test1(num))"
      ],
      "metadata": {
        "id": "WsZaLb2q1PjQ",
        "colab": {
          "base_uri": "https://localhost:8080/"
        },
        "outputId": "a2fa989a-e6af-44a0-8292-b46e5d243471"
      },
      "execution_count": null,
      "outputs": [
        {
          "output_type": "stream",
          "name": "stdout",
          "text": [
            "[3, 6, 9, 12, 15, 18, 21, 24, 27, 30, 33, 36, 39, 42, 45, 48, 51, 54, 57, 60, 63, 66, 69, 72, 75, 78, 81, 84, 87, 90, 93, 96, 99, 102, 105, 108, 111, 114, 117, 120, 123, 126, 129, 132, 135, 138, 141, 144, 147, 150, 153, 156, 159, 162, 165, 168, 171, 174, 177, 180, 183, 186, 189, 192, 195, 198, 201, 204, 207, 210, 213, 216, 219, 222, 225, 228, 231, 234, 237, 240, 243, 246, 249, 252, 255, 258, 261, 264, 267, 270, 273, 276, 279, 282, 285, 288, 291, 294, 297, 300, 303, 306, 309, 312, 315, 318, 321, 324, 327, 330, 333, 336, 339, 342, 345, 348, 351, 354, 357, 360, 363, 366, 369, 372, 375, 378, 381, 384, 387, 390, 393, 396, 399, 402, 405, 408, 411, 414, 417, 420, 423, 426, 429, 432, 435, 438, 441, 444, 447, 450, 453, 456, 459, 462, 465, 468, 471, 474, 477, 480, 483, 486, 489, 492, 495, 498, 501, 504, 507, 510, 513, 516, 519, 522, 525, 528, 531, 534, 537, 540, 543, 546, 549, 552, 555, 558, 561, 564, 567, 570, 573, 576, 579, 582, 585, 588, 591, 594, 597, 600, 603, 606, 609, 612, 615, 618, 621, 624, 627, 630, 633, 636, 639, 642, 645, 648, 651, 654, 657, 660, 663, 666, 669, 672, 675, 678, 681, 684, 687, 690, 693, 696, 699, 702, 705, 708, 711, 714, 717, 720, 723, 726, 729, 732, 735, 738, 741, 744, 747, 750, 753, 756, 759, 762, 765, 768, 771, 774, 777, 780, 783, 786, 789, 792, 795, 798, 801, 804, 807, 810, 813, 816, 819, 822, 825, 828, 831, 834, 837, 840, 843, 846, 849, 852, 855, 858, 861, 864, 867, 870, 873, 876, 879, 882, 885, 888, 891, 894, 897, 900, 903, 906, 909, 912, 915, 918, 921, 924, 927, 930, 933, 936, 939, 942, 945, 948, 951, 954, 957, 960, 963, 966, 969, 972, 975, 978, 981, 984, 987, 990, 993, 996, 999]\n"
          ]
        }
      ]
    },
    {
      "cell_type": "code",
      "source": [
        "n = range(100)\n",
        "\n",
        "def five(n):\n",
        "  return [i for i in n if i%2 == 0 and i%5 == 0]\n",
        "\n",
        "print(five(n))"
      ],
      "metadata": {
        "id": "wEFAy6rG1Pgr",
        "colab": {
          "base_uri": "https://localhost:8080/"
        },
        "outputId": "11966000-c3f1-4e3a-9793-50cfd3f8869b"
      },
      "execution_count": null,
      "outputs": [
        {
          "output_type": "stream",
          "name": "stdout",
          "text": [
            "[0, 10, 20, 30, 40, 50, 60, 70, 80, 90]\n"
          ]
        }
      ]
    },
    {
      "cell_type": "code",
      "source": [
        "string = 'AlmaBettertt'\n",
        "\n",
        "s = {}\n",
        "\n",
        "for i in string:\n",
        "  if i in s:\n",
        "    s[i] += 1\n",
        "  else:\n",
        "    s[i] = 1\n",
        "  result = max(s, key=s.get)\n",
        "\n",
        "print(\"The maximum of string is :\", result)"
      ],
      "metadata": {
        "id": "Gv1uV-JF1PeN",
        "colab": {
          "base_uri": "https://localhost:8080/"
        },
        "outputId": "b3732859-bdfa-436f-b085-d4fb9922f372"
      },
      "execution_count": null,
      "outputs": [
        {
          "output_type": "stream",
          "name": "stdout",
          "text": [
            "The maximum of string is : t\n"
          ]
        }
      ]
    },
    {
      "cell_type": "code",
      "source": [
        "try:\n",
        "    if '1' != 1:\n",
        "        raise \"someError\"\n",
        "    else:\n",
        "        print(\"someError has not occurred\")\n",
        "except \"someError\":\n",
        "    print (\"someError has occurred\") \n",
        "\n",
        "#It print someError has occurred"
      ],
      "metadata": {
        "id": "qs8lzI4B1Pbf"
      },
      "execution_count": null,
      "outputs": []
    },
    {
      "cell_type": "code",
      "source": [
        "a = 'AlmaBetter'\n",
        "b = 'retteBamlA'\n",
        "\n",
        "if(a.find(b) == -1):\n",
        "  print('Given string is unique')\n",
        "else:\n",
        "  print('Given string is not unique')"
      ],
      "metadata": {
        "colab": {
          "base_uri": "https://localhost:8080/"
        },
        "id": "RyiiCsk1B90d",
        "outputId": "5b2b632f-64c9-45b6-e068-79ad2e31688a"
      },
      "execution_count": null,
      "outputs": [
        {
          "output_type": "stream",
          "name": "stdout",
          "text": [
            "Given string is unique\n"
          ]
        }
      ]
    },
    {
      "cell_type": "code",
      "source": [
        "str = input()\n",
        "word = input()\n",
        "\n",
        "def insert_string(str, word):\n",
        "  return str[:2] + word + str[2:]\n",
        "\n",
        "print(insert_string(str, word))"
      ],
      "metadata": {
        "colab": {
          "base_uri": "https://localhost:8080/"
        },
        "id": "ZHcJWQY2R_KG",
        "outputId": "1bf26804-4f7d-4562-e7d1-d755e903c49f"
      },
      "execution_count": null,
      "outputs": [
        {
          "output_type": "stream",
          "name": "stdout",
          "text": [
            "{{}}\n",
            "PHP\n",
            "{{PHP}}\n"
          ]
        }
      ]
    },
    {
      "cell_type": "code",
      "source": [
        "string=input()\n",
        "lower = string.lower()\n",
        "\n",
        "def char_frequency(lower):\n",
        "  dict = {}\n",
        "  for n in lower:\n",
        "    keys = dict.keys()\n",
        "    if n in keys:\n",
        "      dict[n] += 1\n",
        "    else:\n",
        "      dict[n] = 1\n",
        "  return dict\n",
        "\n",
        "print(char_frequency(lower))"
      ],
      "metadata": {
        "colab": {
          "base_uri": "https://localhost:8080/"
        },
        "id": "WhDU_LPIR_F6",
        "outputId": "bbe3f025-dce3-43bf-999c-9fb4369ff1fd"
      },
      "execution_count": null,
      "outputs": [
        {
          "output_type": "stream",
          "name": "stdout",
          "text": [
            "AlmaBetter\n",
            "{'a': 2, 'l': 1, 'm': 1, 'b': 1, 'e': 2, 't': 2, 'r': 1}\n"
          ]
        }
      ]
    },
    {
      "cell_type": "code",
      "source": [
        "from collections import OrderedDict\n",
        "str=input()\n",
        "lower = str.lower()\n",
        "\n",
        "def remove_duplicate(str):\n",
        "  return \"\".join(OrderedDict.fromkeys(str))\n",
        "\n",
        "print(remove_duplicate(str))"
      ],
      "metadata": {
        "colab": {
          "base_uri": "https://localhost:8080/"
        },
        "id": "QeEnI-3jR_CW",
        "outputId": "931d70c6-beff-48c0-d5db-2e3364599456"
      },
      "execution_count": null,
      "outputs": [
        {
          "output_type": "stream",
          "name": "stdout",
          "text": [
            "AbCdEfGh\n",
            "AbCdEfGh\n"
          ]
        }
      ]
    },
    {
      "cell_type": "code",
      "source": [
        "num= int(input())\n",
        "reverse, temp = 0,num\n",
        "while temp != 0:\n",
        "  reverse = reverse * 10 + temp%10\n",
        "  temp = temp//10\n",
        "if reverse == num:\n",
        "  print(\"Number is Palindrome\")\n",
        "else:\n",
        "  print(\"Number is not Palindrome\")"
      ],
      "metadata": {
        "colab": {
          "base_uri": "https://localhost:8080/"
        },
        "id": "n_LtGABxR-_e",
        "outputId": "974311b9-1e89-499e-eb8e-74f2d644e757"
      },
      "execution_count": null,
      "outputs": [
        {
          "output_type": "stream",
          "name": "stdout",
          "text": [
            "404\n",
            "Number is Palindrome\n"
          ]
        }
      ]
    },
    {
      "cell_type": "code",
      "source": [
        "num = int(input())\n",
        "first, second = 0,1\n",
        "print(\"Fibonacci Series: \")\n",
        "for i in range(0,num):\n",
        "  if i <= 1:\n",
        "    result = i\n",
        "  else:\n",
        "    result = first + second\n",
        "    first = second\n",
        "    second = result\n",
        "  print(result)"
      ],
      "metadata": {
        "colab": {
          "base_uri": "https://localhost:8080/"
        },
        "id": "EQAci5h0R-6n",
        "outputId": "a64e45e1-d480-4919-aac3-a8aae4973f0a"
      },
      "execution_count": null,
      "outputs": [
        {
          "output_type": "stream",
          "name": "stdout",
          "text": [
            "5\n",
            "Fibonacci Series: \n",
            "0\n",
            "1\n",
            "1\n",
            "2\n",
            "3\n"
          ]
        }
      ]
    },
    {
      "cell_type": "code",
      "source": [
        "import math\n",
        "num=int(input())\n",
        "\n",
        "if num >= 0:\n",
        "  print(\"Factorial of\", \"num\", \"is\", math.factorial(num))\n",
        "else:\n",
        "  print(\"Factorial can't be calculated for negative number\")"
      ],
      "metadata": {
        "colab": {
          "base_uri": "https://localhost:8080/"
        },
        "id": "KvqG_91mR-1h",
        "outputId": "0e6231c1-e705-44b4-a029-3870f83b88cf"
      },
      "execution_count": null,
      "outputs": [
        {
          "output_type": "stream",
          "name": "stdout",
          "text": [
            "8\n",
            "Factorial of num is 40320\n"
          ]
        }
      ]
    },
    {
      "cell_type": "code",
      "source": [
        "num= int(input())\n",
        "reverse, temp = 0,num\n",
        "while temp != 0:\n",
        "  reverse = reverse * 10 + temp%10\n",
        "  temp = temp//10\n",
        "if reverse == num:\n",
        "  print(\"Number is Palindrome\")\n",
        "else:\n",
        "  print(\"Number is not Palindrome\")"
      ],
      "metadata": {
        "id": "Gh7PWUBKR-yb",
        "colab": {
          "base_uri": "https://localhost:8080/"
        },
        "outputId": "54eb8142-c652-4959-fc62-63dc43a84cf5"
      },
      "execution_count": null,
      "outputs": [
        {
          "output_type": "stream",
          "name": "stdout",
          "text": [
            "5885\n",
            "Number is Palindrome\n"
          ]
        }
      ]
    },
    {
      "cell_type": "code",
      "source": [
        "from collections import OrderedDict\n",
        "str=input()\n",
        "lower = str.lower()\n",
        "\n",
        "def remove_duplicate(str):\n",
        "  return \"\".join(OrderedDict.fromkeys(str))\n",
        "\n",
        "print(remove_duplicate(str))"
      ],
      "metadata": {
        "id": "7ZDFMQcOR-vd",
        "colab": {
          "base_uri": "https://localhost:8080/"
        },
        "outputId": "90394f21-b65b-44f9-a694-ba6b1b7862e6"
      },
      "execution_count": null,
      "outputs": [
        {
          "output_type": "stream",
          "name": "stdout",
          "text": [
            "AbCdEfGh\n",
            "AbCdEfGh\n"
          ]
        }
      ]
    },
    {
      "cell_type": "code",
      "source": [
        "string=input()\n",
        "\n",
        "def reverse(string):\n",
        "    if len(string) % 4 == 0:\n",
        "      return ''.join(reversed(string))\n",
        "    return string\n",
        "\n",
        "print(reverse(string)) "
      ],
      "metadata": {
        "id": "i1whrlY1R-lm",
        "colab": {
          "base_uri": "https://localhost:8080/"
        },
        "outputId": "44b21b9b-5482-4a0f-97aa-b696471786d8"
      },
      "execution_count": null,
      "outputs": [
        {
          "output_type": "stream",
          "name": "stdout",
          "text": [
            "abcd\n",
            "dcba\n"
          ]
        }
      ]
    },
    {
      "cell_type": "code",
      "source": [
        "string=input()\n",
        "\n",
        "def non_repeating(string):\n",
        "    char = []\n",
        "    ctr = {}\n",
        "    for c in string:\n",
        "        if c in ctr:\n",
        "            ctr[c] += 1\n",
        "        else:\n",
        "            ctr[c] = 1\n",
        "            char.append(c)\n",
        "    for c in char:\n",
        "        if ctr[c] == 1:\n",
        "          return c\n",
        "    return None\n",
        "\n",
        "print(non_repeating(string))"
      ],
      "metadata": {
        "colab": {
          "base_uri": "https://localhost:8080/"
        },
        "id": "eUNjfviSya9n",
        "outputId": "8360d6e2-0c9f-409d-be97-f9b00fabcae0"
      },
      "execution_count": null,
      "outputs": [
        {
          "output_type": "stream",
          "name": "stdout",
          "text": [
            "abdadc\n",
            "b\n"
          ]
        }
      ]
    },
    {
      "cell_type": "code",
      "source": [
        "string = input()\n",
        "def count_word(string):\n",
        "    counts = dict()\n",
        "    words = string.split()\n",
        "\n",
        "    for word in words:\n",
        "        if word in counts:\n",
        "            counts[word] += 1\n",
        "        else:\n",
        "            counts[word] = 1\n",
        "\n",
        "    counts_x = sorted(counts.items(), key= lambda kv : kv[1])\n",
        "    return counts_x[-2]\n",
        "\n",
        "print(count_word(string))"
      ],
      "metadata": {
        "colab": {
          "base_uri": "https://localhost:8080/"
        },
        "id": "xreUq9ztya7p",
        "outputId": "25ff910c-1afd-4938-b691-7f60c071e5bc"
      },
      "execution_count": null,
      "outputs": [
        {
          "output_type": "stream",
          "name": "stdout",
          "text": [
            "Both of these issues are fixed by postponing the evaluation of annotations. Instead of compiling code which executes expressions in annotations at their definition time, the compiler stores the annotation in a string form equivalent to the AST of the expression in question. If needed, annotations can be resolved at runtime using typing.get_type_hints(). In the common case where this is not required, the annotations are cheaper to store (since short strings are interned by the interpreter) and make startup time faster.\n",
            "('of', 4)\n"
          ]
        }
      ]
    },
    {
      "cell_type": "code",
      "source": [
        "num = eval(input())\n",
        "\n",
        "print(['emp{0}'.format(i) for i in num])"
      ],
      "metadata": {
        "colab": {
          "base_uri": "https://localhost:8080/"
        },
        "id": "In1mc3Ksya4p",
        "outputId": "7f4900ef-ea3e-4197-e0f2-599c547f9147"
      },
      "execution_count": null,
      "outputs": [
        {
          "output_type": "stream",
          "name": "stdout",
          "text": [
            "[1,2,3,4]\n",
            "['emp1', 'emp2', 'emp3', 'emp4']\n"
          ]
        }
      ]
    },
    {
      "cell_type": "code",
      "source": [
        "nums = eval(input())\n",
        "\n",
        "def move_zeros(nums):\n",
        "  result = sorted(nums, key=lambda x: not x)\n",
        "  return result\n",
        "\n",
        "print(move_zeros(nums))"
      ],
      "metadata": {
        "colab": {
          "base_uri": "https://localhost:8080/"
        },
        "id": "H9FUxAkJya0p",
        "outputId": "f88c71ab-70ae-4a6e-9ba0-5839a33c4790"
      },
      "execution_count": null,
      "outputs": [
        {
          "output_type": "stream",
          "name": "stdout",
          "text": [
            "[3, 4, 0, 0, 0, 6, 2, 0, 6, 7, 6, 0, 0, 0, 9, 10, 7, 4, 4, 5, 3, 0, 0, 2, 9, 7, 1]\n",
            "[3, 4, 6, 2, 6, 7, 6, 9, 10, 7, 4, 4, 5, 3, 2, 9, 7, 1, 0, 0, 0, 0, 0, 0, 0, 0, 0]\n"
          ]
        }
      ]
    },
    {
      "cell_type": "code",
      "source": [
        "import itertools\n",
        "lst = eval(input())\n",
        "\n",
        "lst.sort()\n",
        "new_lst = list(lst for lst,_ in itertools.groupby(lst))\n",
        "print(new_lst)"
      ],
      "metadata": {
        "colab": {
          "base_uri": "https://localhost:8080/"
        },
        "id": "T2dHqhiayaxq",
        "outputId": "ce9c5a79-e379-4431-d22c-71d4efe4eb9f"
      },
      "execution_count": null,
      "outputs": [
        {
          "output_type": "stream",
          "name": "stdout",
          "text": [
            "[[10, 20], [40], [30, 56, 25], [10, 20], [33], [40]]\n",
            "[[10, 20], [30, 56, 25], [33], [40]]\n"
          ]
        }
      ]
    },
    {
      "cell_type": "code",
      "source": [
        "num = eval(input())\n",
        "\n",
        "print(['emp{0}'.format(i) for i in num])"
      ],
      "metadata": {
        "id": "GbhofE62yavE",
        "colab": {
          "base_uri": "https://localhost:8080/"
        },
        "outputId": "03c566ca-4251-49af-d394-c8c9f279e126"
      },
      "execution_count": null,
      "outputs": [
        {
          "output_type": "stream",
          "name": "stdout",
          "text": [
            "[1,2,3,4]\n",
            "['emp1', 'emp2', 'emp3', 'emp4']\n"
          ]
        }
      ]
    },
    {
      "cell_type": "code",
      "source": [
        "nums = eval(input())\n",
        "\n",
        "def move_zeros(nums):\n",
        "  result = sorted(nums, key=lambda x: not x)\n",
        "  return result\n",
        "\n",
        "print(move_zeros(nums))"
      ],
      "metadata": {
        "id": "o-xojGU3yase",
        "colab": {
          "base_uri": "https://localhost:8080/"
        },
        "outputId": "e494cb68-8ef8-46ab-af0c-596bb21691ed"
      },
      "execution_count": null,
      "outputs": [
        {
          "output_type": "stream",
          "name": "stdout",
          "text": [
            "[3, 4, 0, 0, 0, 6, 2, 0, 6, 7, 6, 0, 0, 0, 9, 10, 7, 4, 4, 5, 3, 0, 0, 2, 9, 7, 1]\n",
            "[3, 4, 6, 2, 6, 7, 6, 9, 10, 7, 4, 4, 5, 3, 2, 9, 7, 1, 0, 0, 0, 0, 0, 0, 0, 0, 0]\n"
          ]
        }
      ]
    },
    {
      "cell_type": "code",
      "source": [
        "import itertools\n",
        "lst = eval(input())\n",
        "\n",
        "lst.sort()\n",
        "new_lst = list(lst for lst,_ in itertools.groupby(lst))\n",
        "print(new_lst)"
      ],
      "metadata": {
        "id": "i6Xoci1Ryapz",
        "colab": {
          "base_uri": "https://localhost:8080/"
        },
        "outputId": "4fb9605f-5064-4825-d7e7-0588b3595219"
      },
      "execution_count": null,
      "outputs": [
        {
          "output_type": "stream",
          "name": "stdout",
          "text": [
            "[[10, 20], [40], [30, 56, 25], [10, 20], [33], [40]]\n",
            "[[10, 20], [30, 56, 25], [33], [40]]\n"
          ]
        }
      ]
    },
    {
      "cell_type": "code",
      "source": [
        "lst = eval(input())\n",
        "\n",
        "def remove_dup(lst):\n",
        "  final_list = []\n",
        "  for i in lst:\n",
        "    if i not in final_list:\n",
        "      final_list.append(i)\n",
        "  return final_list\n",
        "\n",
        "print(remove_dup(lst))"
      ],
      "metadata": {
        "id": "sqOxPP99yanH",
        "colab": {
          "base_uri": "https://localhost:8080/"
        },
        "outputId": "83162f2c-9828-424a-ae6b-bb2a8a6d308d"
      },
      "execution_count": null,
      "outputs": [
        {
          "output_type": "stream",
          "name": "stdout",
          "text": [
            "[[10, 20], [40], [30, 56, 25], [10, 20], [33], [40]]\n",
            "[[10, 20], [40], [30, 56, 25], [33]]\n"
          ]
        }
      ]
    },
    {
      "cell_type": "code",
      "source": [
        "lst = eval(input())\n",
        "\n",
        "length = len(lst)\n",
        "print(sum(list(map(round, lst)) * length))"
      ],
      "metadata": {
        "id": "M3dkbqWhyZNw",
        "colab": {
          "base_uri": "https://localhost:8080/"
        },
        "outputId": "61c7cf3a-8af0-418c-cb15-3dd1e90bb531"
      },
      "execution_count": null,
      "outputs": [
        {
          "output_type": "stream",
          "name": "stdout",
          "text": [
            "[22.4, 4.0, -16.22, -9.10, 11.00, -12.22, 14.20, -5.20, 17.50]\n",
            "243\n"
          ]
        }
      ]
    },
    {
      "cell_type": "code",
      "source": [
        "num = 5\n",
        "\n",
        "for i in range(num):\n",
        "    for j in range(i):\n",
        "        print(\"*.\", end=\" \")\n",
        "    print('')\n",
        "\n",
        "for i in range(num,0,-1):\n",
        "    for j in range(i):\n",
        "        print(\"*.\", end=\" \")\n",
        "    print('')"
      ],
      "metadata": {
        "id": "NSjJiVByR-ih",
        "colab": {
          "base_uri": "https://localhost:8080/"
        },
        "outputId": "661f2a2c-c8d4-46b6-b83a-35d84fa011b4"
      },
      "execution_count": null,
      "outputs": [
        {
          "output_type": "stream",
          "name": "stdout",
          "text": [
            "\n",
            "*. \n",
            "*. *. \n",
            "*. *. *. \n",
            "*. *. *. *. \n",
            "*. *. *. *. *. \n",
            "*. *. *. *. \n",
            "*. *. *. \n",
            "*. *. \n",
            "*. \n"
          ]
        }
      ]
    },
    {
      "cell_type": "code",
      "source": [
        "def pattern(n):\n",
        "  for i in range(n):\n",
        "    print(\"*.\"*i)\n",
        "  for i in range(n-1, 0, -1):\n",
        "    print(\"*.\"*i)\n",
        "\n",
        "pattern(5)"
      ],
      "metadata": {
        "id": "VoByWf3IR-fq",
        "colab": {
          "base_uri": "https://localhost:8080/"
        },
        "outputId": "f2aec225-23fe-4308-f667-80fde01b2869"
      },
      "execution_count": null,
      "outputs": [
        {
          "output_type": "stream",
          "name": "stdout",
          "text": [
            "\n",
            "*.\n",
            "*.*.\n",
            "*.*.*.\n",
            "*.*.*.*.\n",
            "*.*.*.*.\n",
            "*.*.*.\n",
            "*.*.\n",
            "*.\n"
          ]
        }
      ]
    },
    {
      "cell_type": "code",
      "source": [
        "rownumbs = 4\n",
        "colnumbs = 3\n",
        "\n",
        "for i in range(1, rownumbs + 1):\n",
        "  for j in range(1, colnumbs + 1):\n",
        "    if (j % 2 == 0):\n",
        "      print('0.', end = '')\n",
        "    else:\n",
        "      print('1.', end = '')\n",
        "  print()"
      ],
      "metadata": {
        "id": "vaCLH0hFR-cg",
        "colab": {
          "base_uri": "https://localhost:8080/"
        },
        "outputId": "1690f74e-5984-4755-d6c5-5725b90bc613"
      },
      "execution_count": null,
      "outputs": [
        {
          "output_type": "stream",
          "name": "stdout",
          "text": [
            "1.0.1.\n",
            "1.0.1.\n",
            "1.0.1.\n",
            "1.0.1.\n"
          ]
        }
      ]
    },
    {
      "cell_type": "code",
      "source": [
        "rows= 5\n",
        "colms= 5\n",
        "\n",
        "for i in range(1, rows+1):\n",
        "  for j in range(1, colms+1):\n",
        "    if (i == 1 or i == rows or j == 1 or j == colms):\n",
        "      print('0.', end = '')\n",
        "    else:\n",
        "      print('', end = '  ')\n",
        "  print()"
      ],
      "metadata": {
        "id": "3h5pbZ13R-Zd",
        "colab": {
          "base_uri": "https://localhost:8080/"
        },
        "outputId": "dc83121d-ce44-4f73-ed07-744177708c8d"
      },
      "execution_count": null,
      "outputs": [
        {
          "output_type": "stream",
          "name": "stdout",
          "text": [
            "0.0.0.0.0.\n",
            "0.      0.\n",
            "0.      0.\n",
            "0.      0.\n",
            "0.0.0.0.0.\n"
          ]
        }
      ]
    },
    {
      "cell_type": "code",
      "source": [
        "string = input()\n",
        "new_string = \" \"\n",
        "\n",
        "i = 0\n",
        "for i in range(0, len(string) -1):\n",
        "  new_string = new_string + string[i]\n",
        "  if(string[i] == string[i+1]):\n",
        "    new_string += '*'\n",
        "print(new_string)"
      ],
      "metadata": {
        "colab": {
          "base_uri": "https://localhost:8080/"
        },
        "id": "UqaEscxta6E5",
        "outputId": "cc2bf1a3-b466-4a1e-c7d2-03e288e42867"
      },
      "execution_count": null,
      "outputs": [
        {
          "output_type": "stream",
          "name": "stdout",
          "text": [
            "AlmaBetter\n",
            " AlmaBet*te\n"
          ]
        }
      ]
    },
    {
      "cell_type": "code",
      "source": [
        "num_of_elements = input()\n",
        "\n",
        "def count_duplicate(num_of_elements):\n",
        "  size = len(num_of_elements)\n",
        "  repeated = []\n",
        "  for i in range(size):\n",
        "    k = i + 1\n",
        "    for j in range(k, size):\n",
        "      if num_of_elements[i] == num_of_elements[j] and num_of_elements[i] not in repeated:\n",
        "        repeated.append(num_of_elements[i])\n",
        "  return repeated\n",
        "\n",
        "p = print(count_duplicate(num_of_elements))\n",
        "print(\"num_of_elements\", \"num_of_elements\", \"is repeated\", \"p\", \"times\")"
      ],
      "metadata": {
        "colab": {
          "base_uri": "https://localhost:8080/"
        },
        "id": "wovBcmAXbCCN",
        "outputId": "2970d24a-0ff8-48cc-ab1b-3bb60086a563"
      },
      "execution_count": null,
      "outputs": [
        {
          "output_type": "stream",
          "name": "stdout",
          "text": [
            "5 2 2 3 2 2\n",
            "[' ', '2']\n",
            "num_of_elements num_of_elements is repeated p times\n"
          ]
        }
      ]
    },
    {
      "cell_type": "code",
      "source": [
        "num1, num2 = [1,2,3,4],[5,6,7,8]\n",
        "num = [num1, num2]\n",
        "print(num[1][2])"
      ],
      "metadata": {
        "id": "kj-LIZthbL1Z",
        "colab": {
          "base_uri": "https://localhost:8080/"
        },
        "outputId": "fa82cece-74ec-4f57-9744-589a784911f3"
      },
      "execution_count": null,
      "outputs": [
        {
          "output_type": "stream",
          "name": "stdout",
          "text": [
            "7\n"
          ]
        }
      ]
    },
    {
      "cell_type": "code",
      "source": [
        "a = ['foo', 'bar', 'baz', 'qux', 'corge']\n",
        "\n",
        "while a:\n",
        "  if len(a) < 3:\n",
        "    break\n",
        "  print(a.pop())\n",
        "print('Done.')"
      ],
      "metadata": {
        "colab": {
          "base_uri": "https://localhost:8080/"
        },
        "id": "Bqr2z-qprLNM",
        "outputId": "63504d76-7f4d-4cca-8fbc-edbf6177a94f"
      },
      "execution_count": null,
      "outputs": [
        {
          "output_type": "stream",
          "name": "stdout",
          "text": [
            "corge\n",
            "qux\n",
            "baz\n",
            "Done.\n"
          ]
        }
      ]
    },
    {
      "cell_type": "code",
      "source": [
        "s1 = 'care'\n",
        "s2 = 'race'\n",
        "\n",
        "print(list(s1) == list(s2))"
      ],
      "metadata": {
        "id": "K1QOvsc4ryd8",
        "colab": {
          "base_uri": "https://localhost:8080/"
        },
        "outputId": "01f8159a-71d6-4e71-d153-a7d827ba9944"
      },
      "execution_count": null,
      "outputs": [
        {
          "output_type": "stream",
          "name": "stdout",
          "text": [
            "False\n"
          ]
        }
      ]
    },
    {
      "cell_type": "code",
      "source": [
        "a = '$1000'\n",
        "b = 'Doller1000'\n",
        "c = '_$1000'\n",
        "\n",
        "print(a.isidentifier(), b.isidentifier(), c.isidentifier())"
      ],
      "metadata": {
        "id": "aS5juDKk5Nv5",
        "colab": {
          "base_uri": "https://localhost:8080/"
        },
        "outputId": "cb36d0b1-f4f3-4cea-9899-be4be1768168"
      },
      "execution_count": null,
      "outputs": [
        {
          "output_type": "stream",
          "name": "stdout",
          "text": [
            "False True False\n"
          ]
        }
      ]
    },
    {
      "cell_type": "code",
      "source": [
        "def f(x):\n",
        "  return 0 if x == 0 else 2*f(x-1) + x*x\n",
        "\n",
        "print(f(2))"
      ],
      "metadata": {
        "id": "TunmE15U9XsL",
        "colab": {
          "base_uri": "https://localhost:8080/"
        },
        "outputId": "d6b63117-42cf-4853-ae61-56270e4cd058"
      },
      "execution_count": null,
      "outputs": [
        {
          "output_type": "stream",
          "name": "stdout",
          "text": [
            "6\n"
          ]
        }
      ]
    },
    {
      "cell_type": "code",
      "source": [
        "s = [1,2,3,4,5,6,7,8]\n",
        "\n",
        "print(s[-6:6])"
      ],
      "metadata": {
        "id": "2LfZkzG_9XnJ",
        "colab": {
          "base_uri": "https://localhost:8080/"
        },
        "outputId": "bdb00a12-5436-4db8-d796-5c134f43e9c6"
      },
      "execution_count": null,
      "outputs": [
        {
          "output_type": "stream",
          "name": "stdout",
          "text": [
            "[3, 4, 5, 6]\n"
          ]
        }
      ]
    },
    {
      "cell_type": "code",
      "source": [
        "f = foo()\n",
        "format(f)"
      ],
      "metadata": {
        "colab": {
          "base_uri": "https://localhost:8080/",
          "height": 190
        },
        "id": "ToEd_RFJOSnA",
        "outputId": "b4d62ff2-a9ed-40b2-92de-56c4106877e2"
      },
      "execution_count": 1,
      "outputs": [
        {
          "output_type": "error",
          "ename": "NameError",
          "evalue": "ignored",
          "traceback": [
            "\u001b[0;31m---------------------------------------------------------------------------\u001b[0m",
            "\u001b[0;31mNameError\u001b[0m                                 Traceback (most recent call last)",
            "\u001b[0;32m<ipython-input-1-d09facbfb5a7>\u001b[0m in \u001b[0;36m<module>\u001b[0;34m\u001b[0m\n\u001b[0;32m----> 1\u001b[0;31m \u001b[0mf\u001b[0m \u001b[0;34m=\u001b[0m \u001b[0mfoo\u001b[0m\u001b[0;34m(\u001b[0m\u001b[0;34m)\u001b[0m\u001b[0;34m\u001b[0m\u001b[0;34m\u001b[0m\u001b[0m\n\u001b[0m\u001b[1;32m      2\u001b[0m \u001b[0mformat\u001b[0m\u001b[0;34m(\u001b[0m\u001b[0mf\u001b[0m\u001b[0;34m)\u001b[0m\u001b[0;34m\u001b[0m\u001b[0;34m\u001b[0m\u001b[0m\n",
            "\u001b[0;31mNameError\u001b[0m: name 'foo' is not defined"
          ]
        }
      ]
    },
    {
      "cell_type": "code",
      "source": [
        "a = {'Apple':1, 'Banana':2,'Cherry':3}\n",
        "print(list(a.items())[::-1][0][0])"
      ],
      "metadata": {
        "colab": {
          "base_uri": "https://localhost:8080/"
        },
        "id": "0hSjYV1kOSkJ",
        "outputId": "94764e54-0c0d-4317-8626-87bc445ca8b5"
      },
      "execution_count": 6,
      "outputs": [
        {
          "output_type": "stream",
          "name": "stdout",
          "text": [
            "Cherry\n"
          ]
        }
      ]
    },
    {
      "cell_type": "code",
      "source": [
        "g = {3,4,5,4}\n",
        "h = {5,2,3,5}\n",
        "\n",
        "print(h-g)"
      ],
      "metadata": {
        "colab": {
          "base_uri": "https://localhost:8080/"
        },
        "id": "ILhRlFrdOSg7",
        "outputId": "1b33838a-dfde-4e79-8bd7-94063d48c718"
      },
      "execution_count": 7,
      "outputs": [
        {
          "output_type": "stream",
          "name": "stdout",
          "text": [
            "{2}\n"
          ]
        }
      ]
    },
    {
      "cell_type": "code",
      "source": [
        "s= '3cheers2allthree'\n",
        "\n",
        "print(s.title())"
      ],
      "metadata": {
        "colab": {
          "base_uri": "https://localhost:8080/"
        },
        "id": "HD3vLX9NOSeS",
        "outputId": "4228e7d7-97b7-46ec-abbb-13e0bc2b01f0"
      },
      "execution_count": 8,
      "outputs": [
        {
          "output_type": "stream",
          "name": "stdout",
          "text": [
            "3Cheers2Allthree\n"
          ]
        }
      ]
    },
    {
      "cell_type": "code",
      "source": [
        "a = [1,2,3,4]\n",
        "b = [3,4,5,6]\n",
        "\n",
        "print(a[-1] in b)"
      ],
      "metadata": {
        "colab": {
          "base_uri": "https://localhost:8080/"
        },
        "id": "6le9bmJuOSbo",
        "outputId": "95d30f01-9760-492c-afb9-481fca88965a"
      },
      "execution_count": 9,
      "outputs": [
        {
          "output_type": "stream",
          "name": "stdout",
          "text": [
            "True\n"
          ]
        }
      ]
    },
    {
      "cell_type": "code",
      "source": [
        "x = '4.0'\n",
        "y = '2.0'\n",
        "\n",
        "print(int(x + y))"
      ],
      "metadata": {
        "colab": {
          "base_uri": "https://localhost:8080/",
          "height": 208
        },
        "id": "MTxDtCHEOSZN",
        "outputId": "2e1a9416-3cb1-4529-8dc0-3e3e1bba923e"
      },
      "execution_count": 13,
      "outputs": [
        {
          "output_type": "error",
          "ename": "ValueError",
          "evalue": "ignored",
          "traceback": [
            "\u001b[0;31m---------------------------------------------------------------------------\u001b[0m",
            "\u001b[0;31mValueError\u001b[0m                                Traceback (most recent call last)",
            "\u001b[0;32m<ipython-input-13-cb60cf7c224d>\u001b[0m in \u001b[0;36m<module>\u001b[0;34m\u001b[0m\n\u001b[1;32m      2\u001b[0m \u001b[0my\u001b[0m \u001b[0;34m=\u001b[0m \u001b[0;34m'2.0'\u001b[0m\u001b[0;34m\u001b[0m\u001b[0;34m\u001b[0m\u001b[0m\n\u001b[1;32m      3\u001b[0m \u001b[0;34m\u001b[0m\u001b[0m\n\u001b[0;32m----> 4\u001b[0;31m \u001b[0mprint\u001b[0m\u001b[0;34m(\u001b[0m\u001b[0mint\u001b[0m\u001b[0;34m(\u001b[0m\u001b[0mx\u001b[0m \u001b[0;34m+\u001b[0m \u001b[0my\u001b[0m\u001b[0;34m)\u001b[0m\u001b[0;34m)\u001b[0m\u001b[0;34m\u001b[0m\u001b[0;34m\u001b[0m\u001b[0m\n\u001b[0m",
            "\u001b[0;31mValueError\u001b[0m: invalid literal for int() with base 10: '4.02.0'"
          ]
        }
      ]
    },
    {
      "cell_type": "code",
      "source": [
        "x = '4.0'\n",
        "y = '2.0'\n",
        "\n",
        "x1 = float(x)\n",
        "y1 = float(y)\n",
        "\n",
        "x2 = int(x1)\n",
        "y2 = int(y1)\n",
        "\n",
        "print(type(x2))\n",
        "print(y1)\n",
        "#print(float(x + y))"
      ],
      "metadata": {
        "colab": {
          "base_uri": "https://localhost:8080/"
        },
        "id": "WSoy-gT8OSWq",
        "outputId": "40c5c177-f8cc-484f-8f26-d8ad39dc54bf"
      },
      "execution_count": 25,
      "outputs": [
        {
          "output_type": "stream",
          "name": "stdout",
          "text": [
            "<class 'int'>\n",
            "2.0\n"
          ]
        }
      ]
    },
    {
      "cell_type": "code",
      "source": [
        "print('*'.join('100000'[:3]))\n",
        "print(''.join(('1*0*0',)))\n",
        "print('*'.join(['1*','00*']))\n",
        "print('*'.join(str(10*10)))"
      ],
      "metadata": {
        "colab": {
          "base_uri": "https://localhost:8080/"
        },
        "id": "_3QumcbjOSUA",
        "outputId": "e74be58d-5b82-4b7d-ee73-3da0394a6de8"
      },
      "execution_count": 27,
      "outputs": [
        {
          "output_type": "stream",
          "name": "stdout",
          "text": [
            "1*0*0\n",
            "1*0*0\n",
            "1**00*\n",
            "1*0*0\n"
          ]
        }
      ]
    },
    {
      "cell_type": "code",
      "source": [
        "s= '1is a Digit'\n",
        "\n",
        "print(s.capitalize())"
      ],
      "metadata": {
        "colab": {
          "base_uri": "https://localhost:8080/"
        },
        "id": "jnZUPZFbOSRo",
        "outputId": "215f881e-40fd-423e-8932-a219f9ad5c65"
      },
      "execution_count": 28,
      "outputs": [
        {
          "output_type": "stream",
          "name": "stdout",
          "text": [
            "1is a digit\n"
          ]
        }
      ]
    },
    {
      "cell_type": "code",
      "source": [],
      "metadata": {
        "id": "lYOeAlmROSO6"
      },
      "execution_count": null,
      "outputs": []
    },
    {
      "cell_type": "code",
      "source": [],
      "metadata": {
        "id": "Vo93B2tCOSMu"
      },
      "execution_count": null,
      "outputs": []
    },
    {
      "cell_type": "code",
      "source": [],
      "metadata": {
        "id": "TuQRuvizOSJ1"
      },
      "execution_count": null,
      "outputs": []
    },
    {
      "cell_type": "code",
      "source": [],
      "metadata": {
        "id": "ZrwPuCp-OSHr"
      },
      "execution_count": null,
      "outputs": []
    },
    {
      "cell_type": "code",
      "source": [],
      "metadata": {
        "id": "yUPM8arOOSE4"
      },
      "execution_count": null,
      "outputs": []
    },
    {
      "cell_type": "code",
      "source": [],
      "metadata": {
        "id": "HZV_v-sJ9Xkh"
      },
      "execution_count": null,
      "outputs": []
    },
    {
      "cell_type": "code",
      "source": [],
      "metadata": {
        "id": "7xdiHmKc9Xhv"
      },
      "execution_count": null,
      "outputs": []
    },
    {
      "cell_type": "code",
      "source": [],
      "metadata": {
        "id": "UFm2T4x19XfL"
      },
      "execution_count": null,
      "outputs": []
    },
    {
      "cell_type": "code",
      "source": [],
      "metadata": {
        "id": "IJl7a7tx9Xci"
      },
      "execution_count": null,
      "outputs": []
    },
    {
      "cell_type": "code",
      "source": [],
      "metadata": {
        "id": "ASlB_Yhu9XaI"
      },
      "execution_count": null,
      "outputs": []
    },
    {
      "cell_type": "code",
      "source": [],
      "metadata": {
        "id": "P07Hg1Bw9XXY"
      },
      "execution_count": null,
      "outputs": []
    },
    {
      "cell_type": "code",
      "source": [],
      "metadata": {
        "id": "KrYDNmxz9XU-"
      },
      "execution_count": null,
      "outputs": []
    },
    {
      "cell_type": "code",
      "source": [],
      "metadata": {
        "id": "8zqNd5EE9XSH"
      },
      "execution_count": null,
      "outputs": []
    }
  ]
}