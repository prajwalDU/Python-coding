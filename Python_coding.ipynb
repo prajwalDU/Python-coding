{
  "nbformat": 4,
  "nbformat_minor": 0,
  "metadata": {
    "colab": {
      "provenance": [],
      "authorship_tag": "ABX9TyObvPsCe+EulysaLH9B9N8R",
      "include_colab_link": true
    },
    "kernelspec": {
      "name": "python3",
      "display_name": "Python 3"
    },
    "language_info": {
      "name": "python"
    }
  },
  "cells": [
    {
      "cell_type": "markdown",
      "metadata": {
        "id": "view-in-github",
        "colab_type": "text"
      },
      "source": [
        "<a href=\"https://colab.research.google.com/github/prajwalDU/Python-coding/blob/main/Python_coding.ipynb\" target=\"_parent\"><img src=\"https://colab.research.google.com/assets/colab-badge.svg\" alt=\"Open In Colab\"/></a>"
      ]
    },
    {
      "cell_type": "code",
      "execution_count": null,
      "metadata": {
        "colab": {
          "base_uri": "https://localhost:8080/"
        },
        "id": "tp80aPkmcUoP",
        "outputId": "0982f7a5-7f9b-47e0-bd66-485f15897533"
      },
      "outputs": [
        {
          "output_type": "stream",
          "name": "stdout",
          "text": [
            "28\n",
            "It is Perfect Number\n"
          ]
        }
      ],
      "source": [
        "# Perfect number or not\n",
        "num = int(input())\n",
        "sum = 0 \n",
        "for i in range(1, num):\n",
        "    if (num % i == 0):\n",
        "        sum = sum + i\n",
        "if (sum == num):\n",
        "    print('It is Perfect Number')\n",
        "else:\n",
        "    print('It is not Perfect Number')"
      ]
    },
    {
      "cell_type": "code",
      "source": [
        "# Paindrome or not\n",
        "string = input()\n",
        "rev_string = reversed(string)\n",
        "if list(string) == list(rev_string):\n",
        "  print('String is a Palindrome')\n",
        "else:\n",
        "  print('String is not a Palindrome')"
      ],
      "metadata": {
        "colab": {
          "base_uri": "https://localhost:8080/"
        },
        "id": "qWwc8zZZgimB",
        "outputId": "fa1532b5-7f9c-46f0-abc0-9936f563c7cf"
      },
      "execution_count": null,
      "outputs": [
        {
          "output_type": "stream",
          "name": "stdout",
          "text": [
            "abcba\n",
            "String is a Palindrome\n"
          ]
        }
      ]
    },
    {
      "cell_type": "code",
      "source": [
        "stra = input()\n",
        "cha = input()\n",
        "\n",
        "st = string.replace(\"cha\",\" \")\n",
        "print(st)"
      ],
      "metadata": {
        "colab": {
          "base_uri": "https://localhost:8080/"
        },
        "id": "VVeGaVO7gijJ",
        "outputId": "fab6c539-1286-4317-a12f-1cb9099b2082"
      },
      "execution_count": null,
      "outputs": [
        {
          "output_type": "stream",
          "name": "stdout",
          "text": [
            "prajwal\n",
            "wa\n",
            "abcba\n"
          ]
        }
      ]
    },
    {
      "cell_type": "code",
      "source": [
        "str = input()\n",
        "ch = input()\n",
        "strl = str.lower()\n",
        "chl = ch.lower()\n",
        "print(strl.replace(chl,\" \"))"
      ],
      "metadata": {
        "id": "kwtDsDXZgigi",
        "colab": {
          "base_uri": "https://localhost:8080/"
        },
        "outputId": "92b14a01-a763-465e-94f4-f42b0a3b003b"
      },
      "execution_count": null,
      "outputs": [
        {
          "output_type": "stream",
          "name": "stdout",
          "text": [
            "prajwal\n",
            "j\n",
            "pra wal\n"
          ]
        }
      ]
    },
    {
      "cell_type": "code",
      "source": [
        "a=int(input())\n",
        "b=int(input())\n",
        "\n",
        "print('value of a is : ', a)\n",
        "print('value of b is : ', b)\n",
        "a, b = b, a\n",
        "print('After swapping')\n",
        "print('value of a is : ', a)\n",
        "print('value of b is : ', b)"
      ],
      "metadata": {
        "id": "IFQXEkcngidw",
        "colab": {
          "base_uri": "https://localhost:8080/"
        },
        "outputId": "491fca6d-cbcd-40ce-f702-4a95a883a0ec"
      },
      "execution_count": null,
      "outputs": [
        {
          "output_type": "stream",
          "name": "stdout",
          "text": [
            "5\n",
            "7\n",
            "value of a is :  5\n",
            "value of b is :  7\n",
            "After swapping\n",
            "value of a is :  7\n",
            "value of b is :  5\n"
          ]
        }
      ]
    },
    {
      "cell_type": "code",
      "source": [
        "color1 = eval(input())\n",
        "color2 = eval(input())\n",
        "output = []\n",
        "for i in color1:\n",
        "  if i in color2:\n",
        "    output.append(i)\n",
        "print(output)"
      ],
      "metadata": {
        "colab": {
          "base_uri": "https://localhost:8080/"
        },
        "id": "8hhePdd40ySI",
        "outputId": "6264cc0e-3409-4510-e690-3637d8ebcef9"
      },
      "execution_count": null,
      "outputs": [
        {
          "output_type": "stream",
          "name": "stdout",
          "text": [
            "[\"Black\", \"Green\", \"White\", \"Pink\"]\n",
            "[\"Red\", \"Green\", \"Orange\", \"White\"]\n",
            "['Green', 'White']\n"
          ]
        }
      ]
    },
    {
      "cell_type": "code",
      "source": [
        "L1 = eval(input())\n",
        "L2 = eval(input())\n",
        "x = [value for value in L1 if value not in L2]\n",
        "y = [value for value in L2 if value not in L1]\n",
        "print('L1-L2 = ', x)\n",
        "print('L2-L1 = ', y)"
      ],
      "metadata": {
        "colab": {
          "base_uri": "https://localhost:8080/"
        },
        "id": "Tc8HnyNO1P4E",
        "outputId": "4aa417ff-1a9f-4ff4-bb78-1eeb397579c9"
      },
      "execution_count": null,
      "outputs": [
        {
          "output_type": "stream",
          "name": "stdout",
          "text": [
            "[\"red\", \"orange\", \"green\", \"blue\", \"white\"]\n",
            "[\"black\", \"yellow\", \"green\", \"blue\"]\n",
            "L1-L2 =  ['red', 'orange', 'white']\n",
            "L2-L1 =  ['black', 'yellow']\n"
          ]
        }
      ]
    },
    {
      "cell_type": "code",
      "source": [
        "add=int(input())\n",
        "mult1=int(input())\n",
        "mult2=int(input())\n",
        "r = lambda a : a + 15\n",
        "print(\"After addition:\", r(add))\n",
        "r = lambda  x, y : x * y\n",
        "print(\"After multiplication:\", r(mult1, mult2))"
      ],
      "metadata": {
        "colab": {
          "base_uri": "https://localhost:8080/"
        },
        "id": "pChuz1gP1P1i",
        "outputId": "6029d9d9-3172-44b2-a222-1bc67d010730"
      },
      "execution_count": null,
      "outputs": [
        {
          "output_type": "stream",
          "name": "stdout",
          "text": [
            "10\n",
            "20\n",
            "4\n",
            "After addition: 25\n",
            "After multiplication: 80\n"
          ]
        }
      ]
    },
    {
      "cell_type": "code",
      "source": [
        "text = eval(input())\n",
        "char = input()\n",
        "\n",
        "res = [idx for idx in text if idx[0].lower() == char.lower()]\n",
        "print('Items start with a from the said list:')\n",
        "print(res)"
      ],
      "metadata": {
        "colab": {
          "base_uri": "https://localhost:8080/"
        },
        "id": "NJEbSqae1Py8",
        "outputId": "a14b889c-111a-4821-df34-636b87000046"
      },
      "execution_count": null,
      "outputs": [
        {
          "output_type": "stream",
          "name": "stdout",
          "text": [
            "['abcd', 'abc', 'bcd', 'bkie', 'cder', 'cdsw', 'sdfsd', 'dagfa', 'acjd']\n",
            "a\n",
            "Items start with a from the said list:\n",
            "['abcd', 'abc', 'acjd']\n"
          ]
        }
      ]
    },
    {
      "cell_type": "code",
      "source": [
        "s= input()\n",
        "ch=input()\n",
        "\n",
        "starts_with = lambda x : True if x.startswith(ch) else False\n",
        "print(starts_with('s'))"
      ],
      "metadata": {
        "colab": {
          "base_uri": "https://localhost:8080/"
        },
        "id": "M4WYzv8b1Pwm",
        "outputId": "e61bcadc-72eb-4d69-d084-3b724ffc37dd"
      },
      "execution_count": null,
      "outputs": [
        {
          "output_type": "stream",
          "name": "stdout",
          "text": [
            "python\n",
            "a\n",
            "False\n"
          ]
        }
      ]
    },
    {
      "cell_type": "code",
      "source": [
        "def prime(n):\n",
        "    np=[]\n",
        "    isprime=[]\n",
        "    for i in range (n+1,n+200):\n",
        "        np.append(i)\n",
        "    for j in np:\n",
        "        val_is_prime = True\n",
        "        for x in range(2,j-1):\n",
        "            if j % x == 0:\n",
        "                val_is_prime = False\n",
        "                break\n",
        "        if val_is_prime:\n",
        "            isprime.append(j)\n",
        "    return min(isprime)"
      ],
      "metadata": {
        "id": "t1SfKww_1Pto"
      },
      "execution_count": null,
      "outputs": []
    },
    {
      "cell_type": "code",
      "source": [
        "prime(48)"
      ],
      "metadata": {
        "colab": {
          "base_uri": "https://localhost:8080/"
        },
        "id": "_2s9HP3N1PrI",
        "outputId": "75127766-da11-4cdc-d108-8ffd8fd7daeb"
      },
      "execution_count": null,
      "outputs": [
        {
          "output_type": "execute_result",
          "data": {
            "text/plain": [
              "53"
            ]
          },
          "metadata": {},
          "execution_count": 9
        }
      ]
    },
    {
      "cell_type": "code",
      "source": [
        "import numpy as np\n",
        "x_1, y_1 = 6, 7\n",
        "x_2, y_2 = 5, 4\n",
        "a=((x_2-x_1) ** 2+(y_2-y_1) ** 2) ** 0.5\n",
        "\n",
        "print(\"The Euclidean Distance between the above given two points 'PQ' =\" , a )"
      ],
      "metadata": {
        "colab": {
          "base_uri": "https://localhost:8080/"
        },
        "id": "8jZs17mi1PoQ",
        "outputId": "56a7d9c7-75b7-425b-a43e-ef11fb49dfb2"
      },
      "execution_count": null,
      "outputs": [
        {
          "output_type": "stream",
          "name": "stdout",
          "text": [
            "The Euclidean Distance between the above given two points 'PQ' = 3.1622776601683795\n"
          ]
        }
      ]
    },
    {
      "cell_type": "code",
      "source": [
        "num = int(input())\n",
        "\n",
        "if num % 2 == 0:\n",
        "  print('prime number', num)\n",
        "else:\n",
        "  print('Not a prime number :', num)"
      ],
      "metadata": {
        "id": "yk3Qi4hG1PmF",
        "colab": {
          "base_uri": "https://localhost:8080/"
        },
        "outputId": "26abc4d0-2ab3-4a29-f6d5-9a7a3136cdb4"
      },
      "execution_count": null,
      "outputs": [
        {
          "output_type": "stream",
          "name": "stdout",
          "text": [
            "9\n",
            "Not a prime number : 9\n"
          ]
        }
      ]
    },
    {
      "cell_type": "code",
      "source": [
        "num = range(1,1000)\n",
        "\n",
        "def test1(num):\n",
        "  return [i for i in num if i%3 == 0]\n",
        "\n",
        "print(test1(num))"
      ],
      "metadata": {
        "id": "WsZaLb2q1PjQ",
        "colab": {
          "base_uri": "https://localhost:8080/"
        },
        "outputId": "a2fa989a-e6af-44a0-8292-b46e5d243471"
      },
      "execution_count": null,
      "outputs": [
        {
          "output_type": "stream",
          "name": "stdout",
          "text": [
            "[3, 6, 9, 12, 15, 18, 21, 24, 27, 30, 33, 36, 39, 42, 45, 48, 51, 54, 57, 60, 63, 66, 69, 72, 75, 78, 81, 84, 87, 90, 93, 96, 99, 102, 105, 108, 111, 114, 117, 120, 123, 126, 129, 132, 135, 138, 141, 144, 147, 150, 153, 156, 159, 162, 165, 168, 171, 174, 177, 180, 183, 186, 189, 192, 195, 198, 201, 204, 207, 210, 213, 216, 219, 222, 225, 228, 231, 234, 237, 240, 243, 246, 249, 252, 255, 258, 261, 264, 267, 270, 273, 276, 279, 282, 285, 288, 291, 294, 297, 300, 303, 306, 309, 312, 315, 318, 321, 324, 327, 330, 333, 336, 339, 342, 345, 348, 351, 354, 357, 360, 363, 366, 369, 372, 375, 378, 381, 384, 387, 390, 393, 396, 399, 402, 405, 408, 411, 414, 417, 420, 423, 426, 429, 432, 435, 438, 441, 444, 447, 450, 453, 456, 459, 462, 465, 468, 471, 474, 477, 480, 483, 486, 489, 492, 495, 498, 501, 504, 507, 510, 513, 516, 519, 522, 525, 528, 531, 534, 537, 540, 543, 546, 549, 552, 555, 558, 561, 564, 567, 570, 573, 576, 579, 582, 585, 588, 591, 594, 597, 600, 603, 606, 609, 612, 615, 618, 621, 624, 627, 630, 633, 636, 639, 642, 645, 648, 651, 654, 657, 660, 663, 666, 669, 672, 675, 678, 681, 684, 687, 690, 693, 696, 699, 702, 705, 708, 711, 714, 717, 720, 723, 726, 729, 732, 735, 738, 741, 744, 747, 750, 753, 756, 759, 762, 765, 768, 771, 774, 777, 780, 783, 786, 789, 792, 795, 798, 801, 804, 807, 810, 813, 816, 819, 822, 825, 828, 831, 834, 837, 840, 843, 846, 849, 852, 855, 858, 861, 864, 867, 870, 873, 876, 879, 882, 885, 888, 891, 894, 897, 900, 903, 906, 909, 912, 915, 918, 921, 924, 927, 930, 933, 936, 939, 942, 945, 948, 951, 954, 957, 960, 963, 966, 969, 972, 975, 978, 981, 984, 987, 990, 993, 996, 999]\n"
          ]
        }
      ]
    },
    {
      "cell_type": "code",
      "source": [
        "n = range(100)\n",
        "\n",
        "def five(n):\n",
        "  return [i for i in n if i%2 == 0 and i%5 == 0]\n",
        "\n",
        "print(five(n))"
      ],
      "metadata": {
        "id": "wEFAy6rG1Pgr",
        "colab": {
          "base_uri": "https://localhost:8080/"
        },
        "outputId": "11966000-c3f1-4e3a-9793-50cfd3f8869b"
      },
      "execution_count": null,
      "outputs": [
        {
          "output_type": "stream",
          "name": "stdout",
          "text": [
            "[0, 10, 20, 30, 40, 50, 60, 70, 80, 90]\n"
          ]
        }
      ]
    },
    {
      "cell_type": "code",
      "source": [
        "string = 'AlmaBettertt'\n",
        "\n",
        "s = {}\n",
        "\n",
        "for i in string:\n",
        "  if i in s:\n",
        "    s[i] += 1\n",
        "  else:\n",
        "    s[i] = 1\n",
        "  result = max(s, key=s.get)\n",
        "\n",
        "print(\"The maximum of string is :\", result)"
      ],
      "metadata": {
        "id": "Gv1uV-JF1PeN",
        "colab": {
          "base_uri": "https://localhost:8080/"
        },
        "outputId": "b3732859-bdfa-436f-b085-d4fb9922f372"
      },
      "execution_count": null,
      "outputs": [
        {
          "output_type": "stream",
          "name": "stdout",
          "text": [
            "The maximum of string is : t\n"
          ]
        }
      ]
    },
    {
      "cell_type": "code",
      "source": [
        "try:\n",
        "    if '1' != 1:\n",
        "        raise \"someError\"\n",
        "    else:\n",
        "        print(\"someError has not occurred\")\n",
        "except \"someError\":\n",
        "    print (\"someError has occurred\") \n",
        "\n",
        "#It print someError has occurred"
      ],
      "metadata": {
        "id": "qs8lzI4B1Pbf"
      },
      "execution_count": null,
      "outputs": []
    },
    {
      "cell_type": "code",
      "source": [
        "a = 'AlmaBetter'\n",
        "b = 'retteBamlA'\n",
        "\n",
        "if(a.find(b) == -1):\n",
        "  print('Given string is unique')\n",
        "else:\n",
        "  print('Given string is not unique')"
      ],
      "metadata": {
        "colab": {
          "base_uri": "https://localhost:8080/"
        },
        "id": "RyiiCsk1B90d",
        "outputId": "5b2b632f-64c9-45b6-e068-79ad2e31688a"
      },
      "execution_count": null,
      "outputs": [
        {
          "output_type": "stream",
          "name": "stdout",
          "text": [
            "Given string is unique\n"
          ]
        }
      ]
    },
    {
      "cell_type": "code",
      "source": [
        "str = input()\n",
        "word = input()\n",
        "\n",
        "def insert_string(str, word):\n",
        "  return str[:2] + word + str[2:]\n",
        "\n",
        "print(insert_string(str, word))"
      ],
      "metadata": {
        "colab": {
          "base_uri": "https://localhost:8080/"
        },
        "id": "ZHcJWQY2R_KG",
        "outputId": "1bf26804-4f7d-4562-e7d1-d755e903c49f"
      },
      "execution_count": null,
      "outputs": [
        {
          "output_type": "stream",
          "name": "stdout",
          "text": [
            "{{}}\n",
            "PHP\n",
            "{{PHP}}\n"
          ]
        }
      ]
    },
    {
      "cell_type": "code",
      "source": [
        "string=input()\n",
        "lower = string.lower()\n",
        "\n",
        "def char_frequency(lower):\n",
        "  dict = {}\n",
        "  for n in lower:\n",
        "    keys = dict.keys()\n",
        "    if n in keys:\n",
        "      dict[n] += 1\n",
        "    else:\n",
        "      dict[n] = 1\n",
        "  return dict\n",
        "\n",
        "print(char_frequency(lower))"
      ],
      "metadata": {
        "colab": {
          "base_uri": "https://localhost:8080/"
        },
        "id": "WhDU_LPIR_F6",
        "outputId": "bbe3f025-dce3-43bf-999c-9fb4369ff1fd"
      },
      "execution_count": null,
      "outputs": [
        {
          "output_type": "stream",
          "name": "stdout",
          "text": [
            "AlmaBetter\n",
            "{'a': 2, 'l': 1, 'm': 1, 'b': 1, 'e': 2, 't': 2, 'r': 1}\n"
          ]
        }
      ]
    },
    {
      "cell_type": "code",
      "source": [
        "from collections import OrderedDict\n",
        "str=input()\n",
        "lower = str.lower()\n",
        "\n",
        "def remove_duplicate(str):\n",
        "  return \"\".join(OrderedDict.fromkeys(str))\n",
        "\n",
        "print(remove_duplicate(str))"
      ],
      "metadata": {
        "colab": {
          "base_uri": "https://localhost:8080/"
        },
        "id": "QeEnI-3jR_CW",
        "outputId": "931d70c6-beff-48c0-d5db-2e3364599456"
      },
      "execution_count": null,
      "outputs": [
        {
          "output_type": "stream",
          "name": "stdout",
          "text": [
            "AbCdEfGh\n",
            "AbCdEfGh\n"
          ]
        }
      ]
    },
    {
      "cell_type": "code",
      "source": [
        "num= int(input())\n",
        "reverse, temp = 0,num\n",
        "while temp != 0:\n",
        "  reverse = reverse * 10 + temp%10\n",
        "  temp = temp//10\n",
        "if reverse == num:\n",
        "  print(\"Number is Palindrome\")\n",
        "else:\n",
        "  print(\"Number is not Palindrome\")"
      ],
      "metadata": {
        "colab": {
          "base_uri": "https://localhost:8080/"
        },
        "id": "n_LtGABxR-_e",
        "outputId": "974311b9-1e89-499e-eb8e-74f2d644e757"
      },
      "execution_count": null,
      "outputs": [
        {
          "output_type": "stream",
          "name": "stdout",
          "text": [
            "404\n",
            "Number is Palindrome\n"
          ]
        }
      ]
    },
    {
      "cell_type": "code",
      "source": [
        "num = int(input())\n",
        "first, second = 0,1\n",
        "print(\"Fibonacci Series: \")\n",
        "for i in range(0,num):\n",
        "  if i <= 1:\n",
        "    result = i\n",
        "  else:\n",
        "    result = first + second\n",
        "    first = second\n",
        "    second = result\n",
        "  print(result)"
      ],
      "metadata": {
        "colab": {
          "base_uri": "https://localhost:8080/"
        },
        "id": "EQAci5h0R-6n",
        "outputId": "a64e45e1-d480-4919-aac3-a8aae4973f0a"
      },
      "execution_count": null,
      "outputs": [
        {
          "output_type": "stream",
          "name": "stdout",
          "text": [
            "5\n",
            "Fibonacci Series: \n",
            "0\n",
            "1\n",
            "1\n",
            "2\n",
            "3\n"
          ]
        }
      ]
    },
    {
      "cell_type": "code",
      "source": [
        "import math\n",
        "num=int(input())\n",
        "\n",
        "if num >= 0:\n",
        "  print(\"Factorial of\", \"num\", \"is\", math.factorial(num))\n",
        "else:\n",
        "  print(\"Factorial can't be calculated for negative number\")"
      ],
      "metadata": {
        "colab": {
          "base_uri": "https://localhost:8080/"
        },
        "id": "KvqG_91mR-1h",
        "outputId": "0e6231c1-e705-44b4-a029-3870f83b88cf"
      },
      "execution_count": null,
      "outputs": [
        {
          "output_type": "stream",
          "name": "stdout",
          "text": [
            "8\n",
            "Factorial of num is 40320\n"
          ]
        }
      ]
    },
    {
      "cell_type": "code",
      "source": [
        "num= int(input())\n",
        "reverse, temp = 0,num\n",
        "while temp != 0:\n",
        "  reverse = reverse * 10 + temp%10\n",
        "  temp = temp//10\n",
        "if reverse == num:\n",
        "  print(\"Number is Palindrome\")\n",
        "else:\n",
        "  print(\"Number is not Palindrome\")"
      ],
      "metadata": {
        "id": "Gh7PWUBKR-yb",
        "colab": {
          "base_uri": "https://localhost:8080/"
        },
        "outputId": "54eb8142-c652-4959-fc62-63dc43a84cf5"
      },
      "execution_count": 1,
      "outputs": [
        {
          "output_type": "stream",
          "name": "stdout",
          "text": [
            "5885\n",
            "Number is Palindrome\n"
          ]
        }
      ]
    },
    {
      "cell_type": "code",
      "source": [
        "from collections import OrderedDict\n",
        "str=input()\n",
        "lower = str.lower()\n",
        "\n",
        "def remove_duplicate(str):\n",
        "  return \"\".join(OrderedDict.fromkeys(str))\n",
        "\n",
        "print(remove_duplicate(str))"
      ],
      "metadata": {
        "id": "7ZDFMQcOR-vd",
        "colab": {
          "base_uri": "https://localhost:8080/"
        },
        "outputId": "90394f21-b65b-44f9-a694-ba6b1b7862e6"
      },
      "execution_count": 2,
      "outputs": [
        {
          "output_type": "stream",
          "name": "stdout",
          "text": [
            "AbCdEfGh\n",
            "AbCdEfGh\n"
          ]
        }
      ]
    },
    {
      "cell_type": "code",
      "source": [
        "string=input()\n",
        "lower = string.lower()\n",
        "\n",
        "def char_frequency(lower):\n",
        "  dict = {}\n",
        "  for n in lower:\n",
        "    keys = dict.keys()\n",
        "    if n in keys:\n",
        "      dict[n] += 1\n",
        "    else:\n",
        "      dict[n] = 1\n",
        "  return dict\n",
        "\n",
        "print(char_frequency(lower))"
      ],
      "metadata": {
        "id": "7wcLDXR1R-ry",
        "colab": {
          "base_uri": "https://localhost:8080/"
        },
        "outputId": "72145585-5d7b-4685-ec73-1cc08f11ab98"
      },
      "execution_count": 4,
      "outputs": [
        {
          "output_type": "stream",
          "name": "stdout",
          "text": [
            "AlmaBetter\n",
            "{'a': 2, 'l': 1, 'm': 1, 'b': 1, 'e': 2, 't': 2, 'r': 1}\n"
          ]
        }
      ]
    },
    {
      "cell_type": "code",
      "source": [
        "str = input()\n",
        "word = input()\n",
        "\n",
        "def insert_string(str, word):\n",
        "  return str[:2] + word + str[2:]\n",
        "\n",
        "print(insert_string(str, word))"
      ],
      "metadata": {
        "id": "Jku3-i8sR-o_",
        "colab": {
          "base_uri": "https://localhost:8080/"
        },
        "outputId": "cf1c3342-1ea1-4349-ef25-6fea3765b438"
      },
      "execution_count": 5,
      "outputs": [
        {
          "output_type": "stream",
          "name": "stdout",
          "text": [
            "{{}}\n",
            "PHP\n",
            "{{PHP}}\n"
          ]
        }
      ]
    },
    {
      "cell_type": "code",
      "source": [
        "string=input()\n",
        "\n",
        "def reverse(string):\n",
        "    if len(string) % 4 == 0:\n",
        "      return ''.join(reversed(string))\n",
        "    return string\n",
        "\n",
        "print(reverse(string)) "
      ],
      "metadata": {
        "id": "i1whrlY1R-lm",
        "colab": {
          "base_uri": "https://localhost:8080/"
        },
        "outputId": "44b21b9b-5482-4a0f-97aa-b696471786d8"
      },
      "execution_count": 6,
      "outputs": [
        {
          "output_type": "stream",
          "name": "stdout",
          "text": [
            "abcd\n",
            "dcba\n"
          ]
        }
      ]
    },
    {
      "cell_type": "code",
      "source": [
        "string=input()\n",
        "\n",
        "def non_repeating(string):\n",
        "    char = []\n",
        "    ctr = {}\n",
        "    for c in string:\n",
        "        if c in ctr:\n",
        "            ctr[c] += 1\n",
        "        else:\n",
        "            ctr[c] = 1\n",
        "            char.append(c)\n",
        "    for c in char:\n",
        "        if ctr[c] == 1:\n",
        "          return c\n",
        "    return None\n",
        "\n",
        "print(non_repeating(string))"
      ],
      "metadata": {
        "colab": {
          "base_uri": "https://localhost:8080/"
        },
        "id": "eUNjfviSya9n",
        "outputId": "8360d6e2-0c9f-409d-be97-f9b00fabcae0"
      },
      "execution_count": 7,
      "outputs": [
        {
          "output_type": "stream",
          "name": "stdout",
          "text": [
            "abdadc\n",
            "b\n"
          ]
        }
      ]
    },
    {
      "cell_type": "code",
      "source": [
        "string = input()\n",
        "def count_word(string):\n",
        "    counts = dict()\n",
        "    words = string.split()\n",
        "\n",
        "    for word in words:\n",
        "        if word in counts:\n",
        "            counts[word] += 1\n",
        "        else:\n",
        "            counts[word] = 1\n",
        "\n",
        "    counts_x = sorted(counts.items(), key= lambda kv : kv[1])\n",
        "    return counts_x[-2]\n",
        "\n",
        "print(count_word(string))"
      ],
      "metadata": {
        "colab": {
          "base_uri": "https://localhost:8080/"
        },
        "id": "xreUq9ztya7p",
        "outputId": "25ff910c-1afd-4938-b691-7f60c071e5bc"
      },
      "execution_count": 8,
      "outputs": [
        {
          "output_type": "stream",
          "name": "stdout",
          "text": [
            "Both of these issues are fixed by postponing the evaluation of annotations. Instead of compiling code which executes expressions in annotations at their definition time, the compiler stores the annotation in a string form equivalent to the AST of the expression in question. If needed, annotations can be resolved at runtime using typing.get_type_hints(). In the common case where this is not required, the annotations are cheaper to store (since short strings are interned by the interpreter) and make startup time faster.\n",
            "('of', 4)\n"
          ]
        }
      ]
    },
    {
      "cell_type": "code",
      "source": [],
      "metadata": {
        "id": "In1mc3Ksya4p"
      },
      "execution_count": null,
      "outputs": []
    },
    {
      "cell_type": "code",
      "source": [],
      "metadata": {
        "id": "H9FUxAkJya0p"
      },
      "execution_count": null,
      "outputs": []
    },
    {
      "cell_type": "code",
      "source": [],
      "metadata": {
        "id": "T2dHqhiayaxq"
      },
      "execution_count": null,
      "outputs": []
    },
    {
      "cell_type": "code",
      "source": [],
      "metadata": {
        "id": "GbhofE62yavE"
      },
      "execution_count": null,
      "outputs": []
    },
    {
      "cell_type": "code",
      "source": [],
      "metadata": {
        "id": "o-xojGU3yase"
      },
      "execution_count": null,
      "outputs": []
    },
    {
      "cell_type": "code",
      "source": [],
      "metadata": {
        "id": "i6Xoci1Ryapz"
      },
      "execution_count": null,
      "outputs": []
    },
    {
      "cell_type": "code",
      "source": [],
      "metadata": {
        "id": "sqOxPP99yanH"
      },
      "execution_count": null,
      "outputs": []
    },
    {
      "cell_type": "code",
      "source": [],
      "metadata": {
        "id": "M3dkbqWhyZNw"
      },
      "execution_count": null,
      "outputs": []
    },
    {
      "cell_type": "code",
      "source": [],
      "metadata": {
        "id": "NSjJiVByR-ih"
      },
      "execution_count": null,
      "outputs": []
    },
    {
      "cell_type": "code",
      "source": [],
      "metadata": {
        "id": "VoByWf3IR-fq"
      },
      "execution_count": null,
      "outputs": []
    },
    {
      "cell_type": "code",
      "source": [],
      "metadata": {
        "id": "vaCLH0hFR-cg"
      },
      "execution_count": null,
      "outputs": []
    },
    {
      "cell_type": "code",
      "source": [],
      "metadata": {
        "id": "3h5pbZ13R-Zd"
      },
      "execution_count": null,
      "outputs": []
    }
  ]
}