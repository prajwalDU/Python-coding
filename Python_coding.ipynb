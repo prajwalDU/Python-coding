{
  "nbformat": 4,
  "nbformat_minor": 0,
  "metadata": {
    "colab": {
      "provenance": [],
      "authorship_tag": "ABX9TyOBvy5o07L53Yk3mp4y46gg",
      "include_colab_link": true
    },
    "kernelspec": {
      "name": "python3",
      "display_name": "Python 3"
    },
    "language_info": {
      "name": "python"
    }
  },
  "cells": [
    {
      "cell_type": "markdown",
      "metadata": {
        "id": "view-in-github",
        "colab_type": "text"
      },
      "source": [
        "<a href=\"https://colab.research.google.com/github/prajwalDU/Python-coding/blob/main/Python_coding.ipynb\" target=\"_parent\"><img src=\"https://colab.research.google.com/assets/colab-badge.svg\" alt=\"Open In Colab\"/></a>"
      ]
    },
    {
      "cell_type": "code",
      "execution_count": null,
      "metadata": {
        "colab": {
          "base_uri": "https://localhost:8080/"
        },
        "id": "tp80aPkmcUoP",
        "outputId": "0982f7a5-7f9b-47e0-bd66-485f15897533"
      },
      "outputs": [
        {
          "output_type": "stream",
          "name": "stdout",
          "text": [
            "28\n",
            "It is Perfect Number\n"
          ]
        }
      ],
      "source": [
        "# Perfect number or not\n",
        "num = int(input())\n",
        "sum = 0 \n",
        "for i in range(1, num):\n",
        "    if (num % i == 0):\n",
        "        sum = sum + i\n",
        "if (sum == num):\n",
        "    print('It is Perfect Number')\n",
        "else:\n",
        "    print('It is not Perfect Number')"
      ]
    },
    {
      "cell_type": "code",
      "source": [
        "# Paindrome or not\n",
        "string = input()\n",
        "rev_string = reversed(string)\n",
        "if list(string) == list(rev_string):\n",
        "  print('String is a Palindrome')\n",
        "else:\n",
        "  print('String is not a Palindrome')"
      ],
      "metadata": {
        "colab": {
          "base_uri": "https://localhost:8080/"
        },
        "id": "qWwc8zZZgimB",
        "outputId": "fa1532b5-7f9c-46f0-abc0-9936f563c7cf"
      },
      "execution_count": null,
      "outputs": [
        {
          "output_type": "stream",
          "name": "stdout",
          "text": [
            "abcba\n",
            "String is a Palindrome\n"
          ]
        }
      ]
    },
    {
      "cell_type": "code",
      "source": [
        "stra = input()\n",
        "cha = input()\n",
        "\n",
        "st = string.replace(\"cha\",\" \")\n",
        "print(st)"
      ],
      "metadata": {
        "colab": {
          "base_uri": "https://localhost:8080/"
        },
        "id": "VVeGaVO7gijJ",
        "outputId": "fab6c539-1286-4317-a12f-1cb9099b2082"
      },
      "execution_count": null,
      "outputs": [
        {
          "output_type": "stream",
          "name": "stdout",
          "text": [
            "prajwal\n",
            "wa\n",
            "abcba\n"
          ]
        }
      ]
    },
    {
      "cell_type": "code",
      "source": [
        "str = input()\n",
        "ch = input()\n",
        "strl = str.lower()\n",
        "chl = ch.lower()\n",
        "print(strl.replace(chl,\" \"))"
      ],
      "metadata": {
        "id": "kwtDsDXZgigi",
        "colab": {
          "base_uri": "https://localhost:8080/"
        },
        "outputId": "92b14a01-a763-465e-94f4-f42b0a3b003b"
      },
      "execution_count": 1,
      "outputs": [
        {
          "output_type": "stream",
          "name": "stdout",
          "text": [
            "prajwal\n",
            "j\n",
            "pra wal\n"
          ]
        }
      ]
    },
    {
      "cell_type": "code",
      "source": [
        "a=int(input())\n",
        "b=int(input())\n",
        "\n",
        "print('value of a is : ', a)\n",
        "print('value of b is : ', b)\n",
        "a, b = b, a\n",
        "print('After swapping')\n",
        "print('value of a is : ', a)\n",
        "print('value of b is : ', b)"
      ],
      "metadata": {
        "id": "IFQXEkcngidw",
        "colab": {
          "base_uri": "https://localhost:8080/"
        },
        "outputId": "491fca6d-cbcd-40ce-f702-4a95a883a0ec"
      },
      "execution_count": 2,
      "outputs": [
        {
          "output_type": "stream",
          "name": "stdout",
          "text": [
            "5\n",
            "7\n",
            "value of a is :  5\n",
            "value of b is :  7\n",
            "After swapping\n",
            "value of a is :  7\n",
            "value of b is :  5\n"
          ]
        }
      ]
    },
    {
      "cell_type": "code",
      "source": [
        "color1 = eval(input())\n",
        "color2 = eval(input())\n",
        "output = []\n",
        "for i in color1:\n",
        "  if i in color2:\n",
        "    output.append(i)\n",
        "print(output)"
      ],
      "metadata": {
        "colab": {
          "base_uri": "https://localhost:8080/"
        },
        "id": "8hhePdd40ySI",
        "outputId": "6264cc0e-3409-4510-e690-3637d8ebcef9"
      },
      "execution_count": 3,
      "outputs": [
        {
          "output_type": "stream",
          "name": "stdout",
          "text": [
            "[\"Black\", \"Green\", \"White\", \"Pink\"]\n",
            "[\"Red\", \"Green\", \"Orange\", \"White\"]\n",
            "['Green', 'White']\n"
          ]
        }
      ]
    },
    {
      "cell_type": "code",
      "source": [
        "L1 = eval(input())\n",
        "L2 = eval(input())\n",
        "x = [value for value in L1 if value not in L2]\n",
        "y = [value for value in L2 if value not in L1]\n",
        "print('L1-L2 = ', x)\n",
        "print('L2-L1 = ', y)"
      ],
      "metadata": {
        "colab": {
          "base_uri": "https://localhost:8080/"
        },
        "id": "Tc8HnyNO1P4E",
        "outputId": "4aa417ff-1a9f-4ff4-bb78-1eeb397579c9"
      },
      "execution_count": 4,
      "outputs": [
        {
          "output_type": "stream",
          "name": "stdout",
          "text": [
            "[\"red\", \"orange\", \"green\", \"blue\", \"white\"]\n",
            "[\"black\", \"yellow\", \"green\", \"blue\"]\n",
            "L1-L2 =  ['red', 'orange', 'white']\n",
            "L2-L1 =  ['black', 'yellow']\n"
          ]
        }
      ]
    },
    {
      "cell_type": "code",
      "source": [
        "add=int(input())\n",
        "mult1=int(input())\n",
        "mult2=int(input())\n",
        "r = lambda a : a + 15\n",
        "print(\"After addition:\", r(add))\n",
        "r = lambda  x, y : x * y\n",
        "print(\"After multiplication:\", r(mult1, mult2))"
      ],
      "metadata": {
        "colab": {
          "base_uri": "https://localhost:8080/"
        },
        "id": "pChuz1gP1P1i",
        "outputId": "6029d9d9-3172-44b2-a222-1bc67d010730"
      },
      "execution_count": 5,
      "outputs": [
        {
          "output_type": "stream",
          "name": "stdout",
          "text": [
            "10\n",
            "20\n",
            "4\n",
            "After addition: 25\n",
            "After multiplication: 80\n"
          ]
        }
      ]
    },
    {
      "cell_type": "code",
      "source": [
        "text = eval(input())\n",
        "char = input()\n",
        "\n",
        "res = [idx for idx in text if idx[0].lower() == char.lower()]\n",
        "print('Items start with a from the said list:')\n",
        "print(res)"
      ],
      "metadata": {
        "colab": {
          "base_uri": "https://localhost:8080/"
        },
        "id": "NJEbSqae1Py8",
        "outputId": "a14b889c-111a-4821-df34-636b87000046"
      },
      "execution_count": 6,
      "outputs": [
        {
          "output_type": "stream",
          "name": "stdout",
          "text": [
            "['abcd', 'abc', 'bcd', 'bkie', 'cder', 'cdsw', 'sdfsd', 'dagfa', 'acjd']\n",
            "a\n",
            "Items start with a from the said list:\n",
            "['abcd', 'abc', 'acjd']\n"
          ]
        }
      ]
    },
    {
      "cell_type": "code",
      "source": [
        "s= input()\n",
        "ch=input()\n",
        "\n",
        "starts_with = lambda x : True if x.startswith(ch) else False\n",
        "print(starts_with('s'))"
      ],
      "metadata": {
        "colab": {
          "base_uri": "https://localhost:8080/"
        },
        "id": "M4WYzv8b1Pwm",
        "outputId": "e61bcadc-72eb-4d69-d084-3b724ffc37dd"
      },
      "execution_count": 7,
      "outputs": [
        {
          "output_type": "stream",
          "name": "stdout",
          "text": [
            "python\n",
            "a\n",
            "False\n"
          ]
        }
      ]
    },
    {
      "cell_type": "code",
      "source": [
        "def prime(n):\n",
        "    np=[]\n",
        "    isprime=[]\n",
        "    for i in range (n+1,n+200):\n",
        "        np.append(i)\n",
        "    for j in np:\n",
        "        val_is_prime = True\n",
        "        for x in range(2,j-1):\n",
        "            if j % x == 0:\n",
        "                val_is_prime = False\n",
        "                break\n",
        "        if val_is_prime:\n",
        "            isprime.append(j)\n",
        "    return min(isprime)"
      ],
      "metadata": {
        "id": "t1SfKww_1Pto"
      },
      "execution_count": 8,
      "outputs": []
    },
    {
      "cell_type": "code",
      "source": [
        "prime(48)"
      ],
      "metadata": {
        "colab": {
          "base_uri": "https://localhost:8080/"
        },
        "id": "_2s9HP3N1PrI",
        "outputId": "75127766-da11-4cdc-d108-8ffd8fd7daeb"
      },
      "execution_count": 9,
      "outputs": [
        {
          "output_type": "execute_result",
          "data": {
            "text/plain": [
              "53"
            ]
          },
          "metadata": {},
          "execution_count": 9
        }
      ]
    },
    {
      "cell_type": "code",
      "source": [
        "import numpy as np\n",
        "x_1, y_1 = 6, 7\n",
        "x_2, y_2 = 5, 4\n",
        "a=((x_2-x_1) ** 2+(y_2-y_1) ** 2) ** 0.5\n",
        "\n",
        "print(\"The Euclidean Distance between the above given two points 'PQ' =\" , a )"
      ],
      "metadata": {
        "colab": {
          "base_uri": "https://localhost:8080/"
        },
        "id": "8jZs17mi1PoQ",
        "outputId": "56a7d9c7-75b7-425b-a43e-ef11fb49dfb2"
      },
      "execution_count": 10,
      "outputs": [
        {
          "output_type": "stream",
          "name": "stdout",
          "text": [
            "The Euclidean Distance between the above given two points 'PQ' = 3.1622776601683795\n"
          ]
        }
      ]
    },
    {
      "cell_type": "code",
      "source": [],
      "metadata": {
        "id": "yk3Qi4hG1PmF"
      },
      "execution_count": null,
      "outputs": []
    },
    {
      "cell_type": "code",
      "source": [],
      "metadata": {
        "id": "WsZaLb2q1PjQ"
      },
      "execution_count": null,
      "outputs": []
    },
    {
      "cell_type": "code",
      "source": [],
      "metadata": {
        "id": "wEFAy6rG1Pgr"
      },
      "execution_count": null,
      "outputs": []
    },
    {
      "cell_type": "code",
      "source": [],
      "metadata": {
        "id": "Gv1uV-JF1PeN"
      },
      "execution_count": null,
      "outputs": []
    },
    {
      "cell_type": "code",
      "source": [],
      "metadata": {
        "id": "qs8lzI4B1Pbf"
      },
      "execution_count": null,
      "outputs": []
    }
  ]
}