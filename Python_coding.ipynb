{
  "nbformat": 4,
  "nbformat_minor": 0,
  "metadata": {
    "colab": {
      "provenance": [],
      "authorship_tag": "ABX9TyOYseDk2RdYiPWmiCxqXA49",
      "include_colab_link": true
    },
    "kernelspec": {
      "name": "python3",
      "display_name": "Python 3"
    },
    "language_info": {
      "name": "python"
    }
  },
  "cells": [
    {
      "cell_type": "markdown",
      "metadata": {
        "id": "view-in-github",
        "colab_type": "text"
      },
      "source": [
        "<a href=\"https://colab.research.google.com/github/prajwalDU/Python-coding/blob/main/Python_coding.ipynb\" target=\"_parent\"><img src=\"https://colab.research.google.com/assets/colab-badge.svg\" alt=\"Open In Colab\"/></a>"
      ]
    },
    {
      "cell_type": "code",
      "execution_count": null,
      "metadata": {
        "colab": {
          "base_uri": "https://localhost:8080/"
        },
        "id": "tp80aPkmcUoP",
        "outputId": "0982f7a5-7f9b-47e0-bd66-485f15897533"
      },
      "outputs": [
        {
          "output_type": "stream",
          "name": "stdout",
          "text": [
            "28\n",
            "It is Perfect Number\n"
          ]
        }
      ],
      "source": [
        "# Perfect number or not\n",
        "num = int(input())\n",
        "sum = 0 \n",
        "for i in range(1, num):\n",
        "    if (num % i == 0):\n",
        "        sum = sum + i\n",
        "if (sum == num):\n",
        "    print('It is Perfect Number')\n",
        "else:\n",
        "    print('It is not Perfect Number')"
      ]
    },
    {
      "cell_type": "code",
      "source": [
        "# Paindrome or not\n",
        "string = input()\n",
        "rev_string = reversed(string)\n",
        "if list(string) == list(rev_string):\n",
        "  print('String is a Palindrome')\n",
        "else:\n",
        "  print('String is not a Palindrome')"
      ],
      "metadata": {
        "colab": {
          "base_uri": "https://localhost:8080/"
        },
        "id": "qWwc8zZZgimB",
        "outputId": "fa1532b5-7f9c-46f0-abc0-9936f563c7cf"
      },
      "execution_count": null,
      "outputs": [
        {
          "output_type": "stream",
          "name": "stdout",
          "text": [
            "abcba\n",
            "String is a Palindrome\n"
          ]
        }
      ]
    },
    {
      "cell_type": "code",
      "source": [
        "stra = input()\n",
        "cha = input()\n",
        "\n",
        "st = string.replace(\"cha\",\" \")\n",
        "print(st)"
      ],
      "metadata": {
        "colab": {
          "base_uri": "https://localhost:8080/"
        },
        "id": "VVeGaVO7gijJ",
        "outputId": "fab6c539-1286-4317-a12f-1cb9099b2082"
      },
      "execution_count": null,
      "outputs": [
        {
          "output_type": "stream",
          "name": "stdout",
          "text": [
            "prajwal\n",
            "wa\n",
            "abcba\n"
          ]
        }
      ]
    },
    {
      "cell_type": "code",
      "source": [
        "str = input()\n",
        "ch = input()\n",
        "strl = str.lower()\n",
        "chl = ch.lower()\n",
        "print(strl.replace(chl,\" \"))"
      ],
      "metadata": {
        "id": "kwtDsDXZgigi",
        "colab": {
          "base_uri": "https://localhost:8080/"
        },
        "outputId": "92b14a01-a763-465e-94f4-f42b0a3b003b"
      },
      "execution_count": 1,
      "outputs": [
        {
          "output_type": "stream",
          "name": "stdout",
          "text": [
            "prajwal\n",
            "j\n",
            "pra wal\n"
          ]
        }
      ]
    },
    {
      "cell_type": "code",
      "source": [
        "a=int(input())\n",
        "b=int(input())\n",
        "\n",
        "print('value of a is : ', a)\n",
        "print('value of b is : ', b)\n",
        "a, b = b, a\n",
        "print('After swapping')\n",
        "print('value of a is : ', a)\n",
        "print('value of b is : ', b)"
      ],
      "metadata": {
        "id": "IFQXEkcngidw",
        "colab": {
          "base_uri": "https://localhost:8080/"
        },
        "outputId": "491fca6d-cbcd-40ce-f702-4a95a883a0ec"
      },
      "execution_count": 2,
      "outputs": [
        {
          "output_type": "stream",
          "name": "stdout",
          "text": [
            "5\n",
            "7\n",
            "value of a is :  5\n",
            "value of b is :  7\n",
            "After swapping\n",
            "value of a is :  7\n",
            "value of b is :  5\n"
          ]
        }
      ]
    },
    {
      "cell_type": "code",
      "source": [
        "color1 = eval(input())\n",
        "color2 = eval(input())\n",
        "output = []\n",
        "for i in color1:\n",
        "  if i in color2:\n",
        "    output.append(i)\n",
        "print(output)"
      ],
      "metadata": {
        "colab": {
          "base_uri": "https://localhost:8080/"
        },
        "id": "8hhePdd40ySI",
        "outputId": "6264cc0e-3409-4510-e690-3637d8ebcef9"
      },
      "execution_count": 3,
      "outputs": [
        {
          "output_type": "stream",
          "name": "stdout",
          "text": [
            "[\"Black\", \"Green\", \"White\", \"Pink\"]\n",
            "[\"Red\", \"Green\", \"Orange\", \"White\"]\n",
            "['Green', 'White']\n"
          ]
        }
      ]
    },
    {
      "cell_type": "code",
      "source": [
        "L1 = eval(input())\n",
        "L2 = eval(input())\n",
        "x = [value for value in L1 if value not in L2]\n",
        "y = [value for value in L2 if value not in L1]\n",
        "print('L1-L2 = ', x)\n",
        "print('L2-L1 = ', y)"
      ],
      "metadata": {
        "colab": {
          "base_uri": "https://localhost:8080/"
        },
        "id": "Tc8HnyNO1P4E",
        "outputId": "4aa417ff-1a9f-4ff4-bb78-1eeb397579c9"
      },
      "execution_count": 4,
      "outputs": [
        {
          "output_type": "stream",
          "name": "stdout",
          "text": [
            "[\"red\", \"orange\", \"green\", \"blue\", \"white\"]\n",
            "[\"black\", \"yellow\", \"green\", \"blue\"]\n",
            "L1-L2 =  ['red', 'orange', 'white']\n",
            "L2-L1 =  ['black', 'yellow']\n"
          ]
        }
      ]
    },
    {
      "cell_type": "code",
      "source": [],
      "metadata": {
        "id": "pChuz1gP1P1i"
      },
      "execution_count": null,
      "outputs": []
    },
    {
      "cell_type": "code",
      "source": [],
      "metadata": {
        "id": "NJEbSqae1Py8"
      },
      "execution_count": null,
      "outputs": []
    },
    {
      "cell_type": "code",
      "source": [],
      "metadata": {
        "id": "M4WYzv8b1Pwm"
      },
      "execution_count": null,
      "outputs": []
    },
    {
      "cell_type": "code",
      "source": [],
      "metadata": {
        "id": "t1SfKww_1Pto"
      },
      "execution_count": null,
      "outputs": []
    },
    {
      "cell_type": "code",
      "source": [],
      "metadata": {
        "id": "_2s9HP3N1PrI"
      },
      "execution_count": null,
      "outputs": []
    },
    {
      "cell_type": "code",
      "source": [],
      "metadata": {
        "id": "8jZs17mi1PoQ"
      },
      "execution_count": null,
      "outputs": []
    },
    {
      "cell_type": "code",
      "source": [],
      "metadata": {
        "id": "yk3Qi4hG1PmF"
      },
      "execution_count": null,
      "outputs": []
    },
    {
      "cell_type": "code",
      "source": [],
      "metadata": {
        "id": "WsZaLb2q1PjQ"
      },
      "execution_count": null,
      "outputs": []
    },
    {
      "cell_type": "code",
      "source": [],
      "metadata": {
        "id": "wEFAy6rG1Pgr"
      },
      "execution_count": null,
      "outputs": []
    },
    {
      "cell_type": "code",
      "source": [],
      "metadata": {
        "id": "Gv1uV-JF1PeN"
      },
      "execution_count": null,
      "outputs": []
    },
    {
      "cell_type": "code",
      "source": [],
      "metadata": {
        "id": "qs8lzI4B1Pbf"
      },
      "execution_count": null,
      "outputs": []
    }
  ]
}