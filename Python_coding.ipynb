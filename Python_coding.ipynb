{
  "nbformat": 4,
  "nbformat_minor": 0,
  "metadata": {
    "colab": {
      "provenance": [],
      "authorship_tag": "ABX9TyPu6qQ1xd6dihX7RV1KbyYQ",
      "include_colab_link": true
    },
    "kernelspec": {
      "name": "python3",
      "display_name": "Python 3"
    },
    "language_info": {
      "name": "python"
    }
  },
  "cells": [
    {
      "cell_type": "markdown",
      "metadata": {
        "id": "view-in-github",
        "colab_type": "text"
      },
      "source": [
        "<a href=\"https://colab.research.google.com/github/prajwalDU/Python-coding/blob/main/Python_coding.ipynb\" target=\"_parent\"><img src=\"https://colab.research.google.com/assets/colab-badge.svg\" alt=\"Open In Colab\"/></a>"
      ]
    },
    {
      "cell_type": "code",
      "execution_count": 3,
      "metadata": {
        "colab": {
          "base_uri": "https://localhost:8080/"
        },
        "id": "tp80aPkmcUoP",
        "outputId": "0982f7a5-7f9b-47e0-bd66-485f15897533"
      },
      "outputs": [
        {
          "output_type": "stream",
          "name": "stdout",
          "text": [
            "28\n",
            "It is Perfect Number\n"
          ]
        }
      ],
      "source": [
        "# Perfect number or not\n",
        "num = int(input())\n",
        "sum = 0 \n",
        "for i in range(1, num):\n",
        "    if (num % i == 0):\n",
        "        sum = sum + i\n",
        "if (sum == num):\n",
        "    print('It is Perfect Number')\n",
        "else:\n",
        "    print('It is not Perfect Number')"
      ]
    },
    {
      "cell_type": "code",
      "source": [
        "# Paindrome or not\n",
        "string = input()\n",
        "rev_string = reversed(string)\n",
        "if list(string) == list(rev_string):\n",
        "  print('String is a Palindrome')\n",
        "else:\n",
        "  print('String is not a Palindrome')"
      ],
      "metadata": {
        "colab": {
          "base_uri": "https://localhost:8080/"
        },
        "id": "qWwc8zZZgimB",
        "outputId": "fa1532b5-7f9c-46f0-abc0-9936f563c7cf"
      },
      "execution_count": 5,
      "outputs": [
        {
          "output_type": "stream",
          "name": "stdout",
          "text": [
            "abcba\n",
            "String is a Palindrome\n"
          ]
        }
      ]
    },
    {
      "cell_type": "code",
      "source": [
        "stra = input()\n",
        "cha = input()\n",
        "\n",
        "st = string.replace(\"cha\",\" \")\n",
        "print(st)"
      ],
      "metadata": {
        "colab": {
          "base_uri": "https://localhost:8080/"
        },
        "id": "VVeGaVO7gijJ",
        "outputId": "fab6c539-1286-4317-a12f-1cb9099b2082"
      },
      "execution_count": 6,
      "outputs": [
        {
          "output_type": "stream",
          "name": "stdout",
          "text": [
            "prajwal\n",
            "wa\n",
            "abcba\n"
          ]
        }
      ]
    },
    {
      "cell_type": "code",
      "source": [],
      "metadata": {
        "id": "kwtDsDXZgigi"
      },
      "execution_count": null,
      "outputs": []
    },
    {
      "cell_type": "code",
      "source": [],
      "metadata": {
        "id": "IFQXEkcngidw"
      },
      "execution_count": null,
      "outputs": []
    }
  ]
}