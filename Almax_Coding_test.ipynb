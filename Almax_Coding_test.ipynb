{
  "nbformat": 4,
  "nbformat_minor": 0,
  "metadata": {
    "colab": {
      "provenance": [],
      "include_colab_link": true
    },
    "kernelspec": {
      "name": "python3",
      "display_name": "Python 3"
    },
    "language_info": {
      "name": "python"
    }
  },
  "cells": [
    {
      "cell_type": "markdown",
      "metadata": {
        "id": "view-in-github",
        "colab_type": "text"
      },
      "source": [
        "<a href=\"https://colab.research.google.com/github/prajwalDU/Python-coding/blob/main/Almax_Coding_test.ipynb\" target=\"_parent\"><img src=\"https://colab.research.google.com/assets/colab-badge.svg\" alt=\"Open In Colab\"/></a>"
      ]
    },
    {
      "cell_type": "markdown",
      "source": [
        "# SQL Constraints\n",
        "\n",
        "1. NOT NULL\n",
        "2. UNIQUE\n",
        "3. PRIMARY KEY\n",
        "4. FOREIGN KEY\n",
        "5. DISTINCT"
      ],
      "metadata": {
        "id": "X0EHUTg3lf6W"
      }
    },
    {
      "cell_type": "markdown",
      "source": [
        "# The following statements are a few examples of SQL statements:\n",
        "\n",
        "* SELECT \n",
        "* INSERT \n",
        "* UPDATE\n",
        "* DELETE\n",
        "* CREATE DATABASE\n",
        "* ALTER DATABASE"
      ],
      "metadata": {
        "id": "rCwX1k_BvJTh"
      }
    },
    {
      "cell_type": "markdown",
      "source": [
        "# What are some common clauses used with SELECT query in SQL?\n",
        "* WHERE clause: In SQL, the WHERE clause is used to filter records that are required depending on certain criteria.\n",
        "* ORDER BY clause: The ORDER BY clause in SQL is used to sort data in ascending (ASC) or descending (DESC) order depending on specified field(s) (DESC).\n",
        "* GROUP BY clause: GROUP BY clause in SQL is used to group entries with identical data and may be used with aggregation methods to obtain summarised database results.\n",
        "* HAVING clause in SQL is used to filter records in combination with the GROUP BY clause. It is different from WHERE, since the WHERE clause cannot filter aggregated records."
      ],
      "metadata": {
        "id": "13__vN2ntJYy"
      }
    },
    {
      "cell_type": "markdown",
      "source": [
        "# Explain significance of groupby function.\n",
        "Pandas groupby is used for grouping the data according to the categories and apply a function to the categories. It also helps to aggregate data efficiently. Pandas dataframe groupby() function is used to split the data into groups based on some criteria."
      ],
      "metadata": {
        "id": "sE4NHyHZmvRd"
      }
    },
    {
      "cell_type": "markdown",
      "source": [
        "# What is a control structure in python?\n",
        "Control structures determine which statements in the program will be executed and in what order, allowing for statements to be skipped over or executed repeatedly. if, if/else, and if/elif/else statements are all examples of control structures that allow for statements to be skipped over or executed conditionally"
      ],
      "metadata": {
        "id": "jHQKnIpd5Bba"
      }
    },
    {
      "cell_type": "markdown",
      "source": [
        "# Difference between statement and functions\n",
        "Statements are essentially always an “imperative” task that must be carried out. On the other hand, functions are a collection of multiple code lines which you are able to call all at once."
      ],
      "metadata": {
        "id": "Edef-eThl4hM"
      }
    },
    {
      "cell_type": "markdown",
      "source": [
        "# Q3. What is the difference between statements and Indentation?\n",
        "A Statement is an instruction that the Python interpreter can execute. An Expression is a combination of values, variables, operators, and calls to functions. Expressions need to be evaluated."
      ],
      "metadata": {
        "id": "3t9O2bTb5QLm"
      }
    },
    {
      "cell_type": "markdown",
      "source": [
        "# Why do we use data abstraction?\n",
        "It hides the unnecessary code details from the user. Also, when we do not want to give out sensitive parts of our code implementation and this is where data abstraction came."
      ],
      "metadata": {
        "id": "VPg2UsiA5WEH"
      }
    },
    {
      "cell_type": "markdown",
      "source": [
        "# What is the difference between syntax error and exceptions?\n",
        "Syntax Error: As the name suggests this error is caused by the wrong syntax in the code. It leads to the termination of the program. Exceptions: Exceptions are raised when the program is syntactically correct, but the code resulted in an error. This error does not stop the execution of the program, however, it changes the normal flow of the program."
      ],
      "metadata": {
        "id": "xsVEWsEv5ryn"
      }
    },
    {
      "cell_type": "markdown",
      "source": [
        "# Q1. Explain try-except in python.\n",
        "First, the try clause is executed i.e. the code between try and except clause. If there is no exception, then only the try clause will run, except the clause is finished. If any exception occurs, the try clause will be skipped and except clause will run. If any exception occurs, but the except clause within the code doesn't handle it, it is passed on to the outer try statements. If the exception is left unhandled, then the execution stops. A try statement can have more than one except clause.Try and Except statement is used to handle these errors within our code in Python. The try block is used to check some code for errors i.e the code inside the try block will execute when there is no error in the program. Whereas the code inside the except block will execute whenever the program encounters some error in the preceding try block. Syntax: try: # Some Code except: # Executed if error in the # try block"
      ],
      "metadata": {
        "id": "bTxNNhmI46gk"
      }
    },
    {
      "cell_type": "markdown",
      "source": [
        "# what is the difference statements and indentation\n",
        "Indentation is a way to tell the interpreter that a series of statements belong to a specific code block. All the statements in one block have the same indent, while the first statement after the block will have a different indent"
      ],
      "metadata": {
        "id": "7A86E_-KdfGf"
      }
    },
    {
      "cell_type": "markdown",
      "source": [
        "# Which is the difference between matplotlib and seaborn?\n",
        "Matplotlib-It is utilized for making basic graphs. Datasets are visualised with the help of bargraphs, histograms, piecharts, scatter plots, lines and so on. \n",
        "\n",
        "Seaborn- Seaborn contains a number of patterns and plots for data visualization. It uses fascinating themes. It helps in compiling whole data into a single plot. It also provides distribution of data."
      ],
      "metadata": {
        "id": "h401AdHcnLlN"
      }
    },
    {
      "cell_type": "markdown",
      "source": [
        "# Name any 5 built-in functions in python.\n",
        "print, sum, min, max, sorted, round, type, input, etc."
      ],
      "metadata": {
        "id": "0dDbjZcdnmPI"
      }
    },
    {
      "cell_type": "markdown",
      "source": [
        "# what type of graph is best to show continuous data\n",
        "Histograms "
      ],
      "metadata": {
        "id": "48pVyRd-nB9S"
      }
    },
    {
      "cell_type": "markdown",
      "source": [
        "# what type of graph is best to show distinct data\n",
        "Line Chart or Graph"
      ],
      "metadata": {
        "id": "hwyzIKX7o_7b"
      }
    },
    {
      "cell_type": "markdown",
      "source": [
        "# Difference between concat and merge\n",
        "merge() for combining data on common columns or indices       \n",
        "join() for combining data on a key column or an index.         \n",
        "concat() for combining DataFrames across rows or columns              "
      ],
      "metadata": {
        "id": "eCDRG5tMl4dz"
      }
    },
    {
      "cell_type": "markdown",
      "source": [
        "# what is control structure in python\n",
        "According to the structure theorem, any computer program can be written using the basic control structures.     \n",
        "A control structure (or flow of control) is a block of programming that analyses variables and chooses a direction in which to go based on given parameters. In simple sentence, a control structure is just a decision that the computer makes."
      ],
      "metadata": {
        "id": "bn7TpzpLeEXV"
      }
    },
    {
      "cell_type": "markdown",
      "source": [
        "# Why do we use data abstraction\n",
        "\n",
        "an abstraction is used to hide the irrelevant data/class in order to reduce the complexity. It also enhances the application efficiency.      \n",
        "Abstraction, in general, is the process of removing characteristics from something to reduce it to a set of essential elements. To this end, data abstraction creates a simplified representation of the underlying data, while hiding its complexities and associated operations."
      ],
      "metadata": {
        "id": "ogjYJrA9l4a5"
      }
    },
    {
      "cell_type": "markdown",
      "source": [
        "**Sequential** execution is when statements are executed one after another in order. You don't need to do anything more for this to happen.    \n",
        "**Selection** used for decisions, branching - choosing between 2 or more alternative paths. if, if...else, switch    \n",
        "**Repetition** used for looping, i.e. repeating a piece of code multiple times in a row."
      ],
      "metadata": {
        "id": "Z_PnMCQSedkd"
      }
    },
    {
      "cell_type": "markdown",
      "source": [
        "#what are the advantages of list comprehension\n",
        "1. Facilitates writing the code in fewer lines.\n",
        "2. Allows writing codes that are easier to understand and that adhere to Python guidelines.\n",
        "3. Converts iterable (list) into a formula.\n",
        "4. Filters and maps the items in a list to boost code performance."
      ],
      "metadata": {
        "id": "fNWcA0Tdl4Lk"
      }
    },
    {
      "cell_type": "markdown",
      "source": [
        "# what is the difference between syntax error and exceptions\n",
        "Errors cannot be handled, while Python exceptions can be handled at the run time.     \n",
        "An error can be a syntax (parsing) error, while there can be many types of exceptions that could occur during the execution and are not unconditionally inoperable."
      ],
      "metadata": {
        "id": "3m4Zdp2UbLVT"
      }
    },
    {
      "cell_type": "markdown",
      "source": [
        "# what is significance of break statement\n",
        "In the break statement, the control exits from the loop.      \n",
        "It is used to stop the execution of the loop at a specific condition."
      ],
      "metadata": {
        "id": "NtHJmkbxl95G"
      }
    },
    {
      "cell_type": "markdown",
      "source": [
        "# What is indentation in python?\n",
        "Indentation refers to the spaces at the beginning of a code line. Where in other programming languages the indentation in code is for readability only, the indentation in Python is very important. Python uses indentation to indicate a block of code."
      ],
      "metadata": {
        "id": "XyXOyLPumwO3"
      }
    },
    {
      "cell_type": "markdown",
      "source": [
        "# What is the significance of break statement?\n",
        "'Break' in Python is a loop control statement. It is used to control the sequence of the loop. Suppose you want to terminate a loop and skip to the next code after the loop; break will help you do that."
      ],
      "metadata": {
        "id": "QVluSx6_mdSb"
      }
    },
    {
      "cell_type": "markdown",
      "source": [],
      "metadata": {
        "id": "-WEapR-Xm7r8"
      }
    },
    {
      "cell_type": "markdown",
      "source": [
        "# What is \"finally\" keyword in python error handling\n",
        "It defines a block of code to run when the try... except...else block is final. The finally block will be executed no matter if the try block raises an error or not. This can be useful to close objects and clean up resources."
      ],
      "metadata": {
        "id": "GjZkPxovlzj_"
      }
    },
    {
      "cell_type": "markdown",
      "source": [
        "# Define _init_    \n",
        "\n",
        "The __init__ method is the Python equivalent of the C++ constructor in an object-oriented approach. The __init__ function is called every time an object is created from a class. The __init__ method lets the class initialize the object's attributes and serves no other purpose. It is only used within classes."
      ],
      "metadata": {
        "id": "BiHjEzKSZs-i"
      }
    },
    {
      "cell_type": "markdown",
      "source": [
        "# Tell me about _init_ method?\n",
        "The _init_ method is similar to constructors in C++ and Java. It is run as soon as an object of a class is instantiated. The method is useful to do any initialization you want to do with your object."
      ],
      "metadata": {
        "id": "4OOIQfd5mTTB"
      }
    },
    {
      "cell_type": "code",
      "execution_count": null,
      "metadata": {
        "id": "QDKMa2eIXvr8"
      },
      "outputs": [],
      "source": [
        "# Define init function\n",
        "class Car:\n",
        "    def __init__(self, name):\n",
        "        self.name = name\n",
        "        print(\"I ran first\")\n",
        " \n",
        "    def product(self):\n",
        "        print(\"I ran second\")\n",
        "        return (\"Name: \" + self.name)"
      ]
    },
    {
      "cell_type": "code",
      "source": [
        "C = Car('Audi R8')\n",
        "print(C.product())"
      ],
      "metadata": {
        "colab": {
          "base_uri": "https://localhost:8080/"
        },
        "id": "mCAHehSyY-6u",
        "outputId": "ff1e1081-221c-4f24-ac73-2a9959095877"
      },
      "execution_count": null,
      "outputs": [
        {
          "output_type": "stream",
          "name": "stdout",
          "text": [
            "I ran first\n",
            "I ran second\n",
            "Name: Audi R8\n"
          ]
        }
      ]
    },
    {
      "cell_type": "code",
      "source": [
        "# Asking output\n",
        "print([i.lower() for i in \"HELLO\"])"
      ],
      "metadata": {
        "colab": {
          "base_uri": "https://localhost:8080/"
        },
        "id": "fT7QSnfnZOOy",
        "outputId": "baf2a9c6-e586-4c0e-98be-4554cd6e7d71"
      },
      "execution_count": null,
      "outputs": [
        {
          "output_type": "stream",
          "name": "stdout",
          "text": [
            "['h', 'e', 'l', 'l', 'o']\n"
          ]
        }
      ]
    },
    {
      "cell_type": "code",
      "source": [
        "# List Compresion\n",
        "num = range(200)\n",
        "def test(num):\n",
        "  return [i for i in num if i%2 == 0 and i%5 == 0]\n",
        "\n",
        "print(test(num))"
      ],
      "metadata": {
        "colab": {
          "base_uri": "https://localhost:8080/"
        },
        "id": "vERytIEwXPiT",
        "outputId": "157ac662-1ee9-42f1-8c2b-432aa81da460"
      },
      "execution_count": null,
      "outputs": [
        {
          "output_type": "stream",
          "name": "stdout",
          "text": [
            "[0, 10, 20, 30, 40, 50, 60, 70, 80, 90, 100, 110, 120, 130, 140, 150, 160, 170, 180, 190]\n"
          ]
        }
      ]
    },
    {
      "cell_type": "code",
      "source": [
        "# What resturns this code snipet\n",
        "k = [print(i) for i in my_string if i not in 'aeiou']"
      ],
      "metadata": {
        "id": "Ze1IJSPLZOHT"
      },
      "execution_count": null,
      "outputs": []
    },
    {
      "cell_type": "code",
      "source": [
        "# Program to find the maximum frequency character in a string\n",
        "str = \"prajwalpraju\"\n",
        " \n",
        "freq = {}\n",
        "for i in str:\n",
        " if i in freq:\n",
        "  freq[i] += 1\n",
        " else:\n",
        "  freq[i] = 1\n",
        "res = max(freq, key = freq.get)\n",
        " \n",
        "# printing result\n",
        "print (\"The maximum of all character is : \" + res)"
      ],
      "metadata": {
        "id": "LknmTME6ZOFA",
        "colab": {
          "base_uri": "https://localhost:8080/"
        },
        "outputId": "9e912f12-4ccb-4b9c-ac44-2c5e1a9148cd"
      },
      "execution_count": null,
      "outputs": [
        {
          "output_type": "stream",
          "name": "stdout",
          "text": [
            "The maximum of all characters in GeeksforGeeks is : a\n"
          ]
        }
      ]
    },
    {
      "cell_type": "code",
      "source": [
        "# how to drop a column from the dataframe\n",
        "df.drop(['C', 'D'], axis=1)\n",
        "\n",
        "# axis=1 ... refers to column\n",
        "# axis=0 ... refers to rows"
      ],
      "metadata": {
        "id": "E7xLMPNOZN9w"
      },
      "execution_count": null,
      "outputs": []
    },
    {
      "cell_type": "code",
      "source": [
        "# Given no is arm string or not\n",
        "num = int(input())\n",
        "\n",
        "sum = 0\n",
        "\n",
        "temp = num\n",
        "while temp > 0:\n",
        "   digit = temp % 10\n",
        "   sum += digit ** 3\n",
        "   temp //= 10\n",
        "\n",
        "# display the result\n",
        "if num == sum:\n",
        "   print(num,\"is an Armstrong number\")\n",
        "else:\n",
        "   print(num,\"is not an Armstrong number\")"
      ],
      "metadata": {
        "id": "xFiJHorVZN7a",
        "colab": {
          "base_uri": "https://localhost:8080/"
        },
        "outputId": "a4474101-eafa-44ce-ba31-c10d6770aeb5"
      },
      "execution_count": null,
      "outputs": [
        {
          "output_type": "stream",
          "name": "stdout",
          "text": [
            "407\n",
            "407 is an Armstrong number\n"
          ]
        }
      ]
    },
    {
      "cell_type": "code",
      "source": [
        "num=int(input(\"Enter the number to check armstrong number: \"))\n",
        "\n",
        "#Assigning the num value to arms\n",
        "arms = num\n",
        "\n",
        "#Finding the length of the number\n",
        "length = len(str(num))\n",
        "sum1 = 0\n",
        "\n",
        "#Iterating the values to check armstrong number\n",
        "while num != 0:\n",
        "\trem = num % 10\n",
        "\tsum1 = sum1+(rem**length)\n",
        "\tnum = num//10\n",
        "\n",
        "#Printing the result whether the given number is armstrong number or not\n",
        "if arms == sum1:\n",
        "\tprint(\"The given number\", arms, \"is armstrong number\")\n",
        "else:\n",
        "\tprint(\"The given number\", arms, \"is not an armstrong number\")"
      ],
      "metadata": {
        "id": "6jbFzLmLIg7p"
      },
      "execution_count": null,
      "outputs": []
    },
    {
      "cell_type": "code",
      "source": [
        "a + X\n",
        "\n",
        "if '123'.digit()"
      ],
      "metadata": {
        "id": "wMc9Ga6_ZN4T"
      },
      "execution_count": null,
      "outputs": []
    },
    {
      "cell_type": "code",
      "source": [
        "# Find largest in array\n",
        "array = [10,20,30,40,100,25,101]\n",
        "\n",
        "def largests(array):\n",
        "  max = array[0]\n",
        "  for i in range(1, len(array)):\n",
        "    if array[i] > max:\n",
        "      max = array[i]\n",
        "  return max\n",
        "\n",
        "print(\"largest in given array is :\", largests(array))"
      ],
      "metadata": {
        "id": "3mw6iiAbZNtH",
        "colab": {
          "base_uri": "https://localhost:8080/"
        },
        "outputId": "f706e9e2-023d-4dd4-9c0f-643e74a0f5a8"
      },
      "execution_count": null,
      "outputs": [
        {
          "output_type": "stream",
          "name": "stdout",
          "text": [
            "largest in given array is : 101\n"
          ]
        }
      ]
    },
    {
      "cell_type": "code",
      "source": [
        "# Given starting and end point print all even numbers\n",
        "for num in range(1,10):\n",
        "  if num % 2 == 0:\n",
        "    print(num, end=\" \")"
      ],
      "metadata": {
        "id": "AczJpSVTZNqK",
        "colab": {
          "base_uri": "https://localhost:8080/"
        },
        "outputId": "7bd6192d-4cbf-48b9-ea5a-88cce4a31be8"
      },
      "execution_count": null,
      "outputs": [
        {
          "output_type": "stream",
          "name": "stdout",
          "text": [
            "2 4 6 8 "
          ]
        }
      ]
    },
    {
      "cell_type": "code",
      "source": [
        "# how to create new column from existing columns in a pandas dataframe\n",
        "\n",
        "df['new_column'] = df['amount'] + df['quantity']"
      ],
      "metadata": {
        "id": "-1eA8FcVZNnd"
      },
      "execution_count": null,
      "outputs": []
    },
    {
      "cell_type": "code",
      "source": [
        "from traitlets import validate\n",
        "n = int(input())\n",
        "\n",
        "while n % 2 == 0:\n",
        "  print('Bye')\n",
        "  valid\n",
        "except :\n",
        "  print('not Valid')"
      ],
      "metadata": {
        "id": "cKYGKWeUU6oz"
      },
      "execution_count": null,
      "outputs": []
    },
    {
      "cell_type": "code",
      "source": [
        "def LeapYear(Year):   \n",
        "  if((Year % 400 == 0) or  \n",
        "     (Year % 100 != 0) and  \n",
        "     (Year % 4 == 0)):   \n",
        "    print(\"The given Year is a leap year\");   \n",
        "  else:  \n",
        "    print (\"The given Year is not a leap year\")  \n",
        "\n",
        "Year = int(input())  \n",
        "  \n",
        "print(LeapYear(Year)) "
      ],
      "metadata": {
        "id": "zYlGVJdDIWXn",
        "colab": {
          "base_uri": "https://localhost:8080/"
        },
        "outputId": "2cdbfbaa-99cf-450b-8d0c-06819cb4f073"
      },
      "execution_count": null,
      "outputs": [
        {
          "output_type": "stream",
          "name": "stdout",
          "text": [
            "366\n",
            "The given Year is not a leap year\n",
            "None\n"
          ]
        }
      ]
    },
    {
      "cell_type": "code",
      "source": [
        "prime_num = int(input(\"Enter a number to check whether it is prime or not: \"))\n",
        "if prime_num > 1:\n",
        "\t\tfor i in range(2, int(prime_num/2)+1):\n",
        "\t\t\t\tif (prime_num % i) == 0:\n",
        "\t\t\tprint(prime_num, \"is not a prime number\")\n",
        "\t\t\tbreak\n",
        "\telse:\n",
        "\t\tprint(prime_num, \"is a prime number\")\n",
        "else:\n",
        "\tprint(prime_num, \"is not a prime number\")"
      ],
      "metadata": {
        "id": "xQJXuTHdI457"
      },
      "execution_count": null,
      "outputs": []
    },
    {
      "cell_type": "code",
      "source": [
        "tab_number = int(input (\"Enter the number of your choice to print the multiplication table: \"))      \n",
        "\n",
        "#For loop to iterate the multiplication 10 times and print the table   \n",
        "print (\"The Multiplication Table of: \", tab_number)    \n",
        "for count in range(1, 11):      \n",
        "   print (tab_number, 'x', count, '=', tab_number * count) "
      ],
      "metadata": {
        "id": "pVOaSDXsI423",
        "colab": {
          "base_uri": "https://localhost:8080/"
        },
        "outputId": "14866bf1-d41b-467b-9a3f-c50ec0565b1a"
      },
      "execution_count": null,
      "outputs": [
        {
          "output_type": "stream",
          "name": "stdout",
          "text": [
            "Enter the number of your choice to print the multiplication table: 10\n",
            "The Multiplication Table of:  10\n",
            "10 x 1 = 10\n",
            "10 x 2 = 20\n",
            "10 x 3 = 30\n",
            "10 x 4 = 40\n",
            "10 x 5 = 50\n",
            "10 x 6 = 60\n",
            "10 x 7 = 70\n",
            "10 x 8 = 80\n",
            "10 x 9 = 90\n",
            "10 x 10 = 100\n"
          ]
        }
      ]
    },
    {
      "cell_type": "code",
      "source": [
        "num1 = input('Enter the first variable: ')\n",
        "num2 = input('Enter the second variable: ')\n",
        "\n",
        "#Printing the numbers before swap\n",
        "print('The value of num1 before swapping: {}'.format(num1))\n",
        "print('The value of num2 before swapping: {}'.format(num2))\n",
        "\n",
        "#Use temporary variable and swap the values\n",
        "temp = num1\n",
        "num1 = num2\n",
        "num2 = temp\n",
        "\n",
        "#Printing the numbers after swap\n",
        "print('The value of num1 after swapping: {}'.format(num1))\n",
        "print('The value of num2 after swapping: {}'.format(num2))"
      ],
      "metadata": {
        "id": "ELz2bwOpI4wj"
      },
      "execution_count": null,
      "outputs": []
    },
    {
      "cell_type": "code",
      "source": [
        "#Python progam to check fibonacci number\n",
        "fib_nums = [0, 1]  \n",
        "\n",
        "number = int(input('Enter the number you want to check for fibonacci number: '))\n",
        "\n",
        "# Iterate fibonacci terms until the user number is reached\n",
        "while fib_nums[-1] <= number:\n",
        "    fib_nums.append(fib_nums[-1] + fib_nums[-2])\n",
        "#Printing the result whether the given number is fibonacci or not\n",
        "if number in fib_nums:\n",
        "    print(f'Yes. {number} is a fibonacci number.')\n",
        "else:\n",
        "    print(f'No. {number} is NOT a fibonacci number.')"
      ],
      "metadata": {
        "id": "9gh8-j99I4uO"
      },
      "execution_count": null,
      "outputs": []
    },
    {
      "cell_type": "code",
      "source": [
        "# Python program to find area of a circle\n",
        "\n",
        "def circ_Area(rad):\n",
        "\tPI = 3.142\n",
        "\treturn PI * (rad*rad);\n",
        "\n",
        "rad = float(input('Enter the radius of the circle: '))\n",
        "print(\"Area of the circle is %.6f\" % circ_Area(rad));"
      ],
      "metadata": {
        "id": "L49PhcOII4rp"
      },
      "execution_count": null,
      "outputs": []
    },
    {
      "cell_type": "code",
      "source": [
        "# Write a python program to find simple interest.\n",
        "def simple_interest(p,t,r):\n",
        "  print('The principal is', p) \n",
        "  print('The time period is', t) \n",
        "  print('The rate of interest is',r)\n",
        "  si = (p * t * r)/100 \n",
        "  print('The Simple Interest is', si) \n",
        "  return si # Driver code simple_interest(8, 6, 8)"
      ],
      "metadata": {
        "id": "qJVBLph5I4o8"
      },
      "execution_count": null,
      "outputs": []
    },
    {
      "cell_type": "code",
      "source": [
        "#  How to create new column from existing columns in a pandas dataframe.\n",
        "df[new_col] = df[col_1] + df[col_2]"
      ],
      "metadata": {
        "id": "N5BJ9KmOI4mB"
      },
      "execution_count": null,
      "outputs": []
    },
    {
      "cell_type": "code",
      "source": [
        "# Write a python program to print pyramid pattern using stars and spaces.\n",
        "def pypart(n): \n",
        "  # outer loop to handle number of rows \n",
        "  # n in this case \n",
        "  for i in range(0, n): \n",
        "  # inner loop to handle number of columns \n",
        "  # values changing acc. to outer loop\n",
        "    for j in range(0, i+1): \n",
        "  # printing stars \n",
        "      print(\"* \",end=\"\") \n",
        "  # ending line after each row \n",
        "      print(\"\\r\")"
      ],
      "metadata": {
        "id": "oOLsph3OI6mp"
      },
      "execution_count": null,
      "outputs": []
    },
    {
      "cell_type": "code",
      "source": [
        "# Write a python program to remove i'th element from a string\n",
        "def remove_char(s, i):\n",
        "  a = s[:i]\n",
        "  b = s[i+1:]\n",
        "  return a+b\n",
        "\n",
        "string = \"Pythonisgood\"\n",
        "# Remove ith index element\n",
        "i = 5\n",
        "print(remove_char(string,i-1)) "
      ],
      "metadata": {
        "id": "tPyNz0bpI6kO",
        "colab": {
          "base_uri": "https://localhost:8080/"
        },
        "outputId": "91b5b5c4-9b09-4620-a522-1ba6f8fb33e5"
      },
      "execution_count": null,
      "outputs": [
        {
          "output_type": "stream",
          "name": "stdout",
          "text": [
            "Pythnisgood\n"
          ]
        }
      ]
    },
    {
      "cell_type": "code",
      "source": [
        "# Program to add two matrices using nested loop\n",
        "\n",
        "X = [[12,7,3],\n",
        "    [4 ,5,6],\n",
        "    [7 ,8,9]]\n",
        "\n",
        "Y = [[5,8,1],\n",
        "    [6,7,3],\n",
        "    [4,5,9]]\n",
        "\n",
        "result = [[0,0,0],\n",
        "         [0,0,0],\n",
        "         [0,0,0]]\n",
        "\n",
        "# iterate through rows\n",
        "for i in range(len(X)):\n",
        "   # iterate through columns\n",
        "   for j in range(len(X[0])):\n",
        "       result[i][j] = X[i][j] + Y[i][j]\n",
        "\n",
        "for r in result:\n",
        "   print(r)"
      ],
      "metadata": {
        "colab": {
          "base_uri": "https://localhost:8080/"
        },
        "id": "UFUFZ85VpL63",
        "outputId": "23170001-7ca5-4340-8e49-1cbec71dc3dd"
      },
      "execution_count": null,
      "outputs": [
        {
          "output_type": "stream",
          "name": "stdout",
          "text": [
            "[17, 15, 4]\n",
            "[10, 12, 9]\n",
            "[11, 13, 18]\n"
          ]
        }
      ]
    },
    {
      "cell_type": "code",
      "source": [
        "# Q7. What will be the output of the following Python code?\n",
        "def foo(): \n",
        "  try: \n",
        "    print(1) \n",
        "  finally: \n",
        "    print(2)\n",
        "\n",
        "foo()"
      ],
      "metadata": {
        "id": "ewUnytWUI6hW",
        "colab": {
          "base_uri": "https://localhost:8080/"
        },
        "outputId": "61d9e0a8-4c7c-4f0c-ca76-b0bcaf6c793f"
      },
      "execution_count": null,
      "outputs": [
        {
          "output_type": "stream",
          "name": "stdout",
          "text": [
            "1\n",
            "2\n"
          ]
        }
      ]
    },
    {
      "cell_type": "markdown",
      "source": [
        "## Almax Interview Questions After week 7."
      ],
      "metadata": {
        "id": "0v5o5CD-YpUC"
      }
    },
    {
      "cell_type": "markdown",
      "source": [
        "Q1. Anita randomly picks 4 cards from a deck of 52-cards and places them back into the deck ( Any set of 4 cards is equally likely ). Then, Babita randomly chooses 8 cards out of the same deck ( Any set of 8 cards is equally likely). Assume that the choice of 4 cards by Anita and the choice of 8 cards by Babita are independent. What is the probability that all 4 cards chosen by Anita are in the set of 8 cards chosen by Babita?\n",
        "\n",
        "48C4 x 52C4. The total number of possible combination would be 52C4 (For selecting 4 cards by Anita) * 52C8 (For selecting 8 cards by Babita). Since, the 4 cards that Anita chooses is among the 8 cards which Babita has chosen, thus the number of combinations possible is 52C4 (For selecting the 4 cards selected by Anita) * 48C4 (For selecting any other 4 cards by Babita, since the 4 cards selected by Anita are common)"
      ],
      "metadata": {
        "id": "w4fkKQvcnW04"
      }
    },
    {
      "cell_type": "markdown",
      "source": [
        "Q2. If models trained on different training datasets derived from same population have different performance or make distinctly different predictions on unseen dataset, the models are said to have ____________\n",
        "\n",
        "High Variance"
      ],
      "metadata": {
        "id": "Zpcu5ykonmci"
      }
    },
    {
      "cell_type": "markdown",
      "source": [
        "Q3. Finding good hyperparameter values is very time-consuming. So typically you should do it once at the start of the project, and try to find very good hyperparameters so that you don't ever have to revisit tuning them again. True or false?\n",
        "\n",
        "False. Minor changes in your model could potentially need you to find good hyperparameters again from scratch."
      ],
      "metadata": {
        "id": "gcpDbsFjnypf"
      }
    },
    {
      "cell_type": "markdown",
      "source": [
        "Q4. What are the disadvantages of Logistic Regression?\n",
        "\n",
        "\n",
        "The disadvantages of the logistic regression are as follows: 1. Sometimes a lot of Feature Engineering is required. 2. If the independent features are correlated with each other it may affect the performance of the classifier. 3. It is quite sensitive to noise and overfitting. 4. Logistic Regression should not be used if the number of observations is lesser than the number of features, otherwise, it may lead to overfitting. 5. By using Logistic Regression, non-linear problems can't be solved because it has a linear decision surface. But in real-world scenarios, the linearly separable data is rarely found."
      ],
      "metadata": {
        "id": "goylOnwklpdU"
      }
    },
    {
      "cell_type": "markdown",
      "source": [
        "Q6. What is Regularized Regression?\n",
        "\n",
        "Regularized regression is a type of regression where the coefficient estimates are constrained to zero. The magnitude (size) of coefficients, as well as the magnitude of the error term, are penalized. Complex models are discouraged, primarily to avoid overfitting.\n",
        "\n",
        "“Regularization” is a way to give a penalty to certain models (usually overly complex ones). Ridge regression belongs to the set of L2 regularization tools."
      ],
      "metadata": {
        "id": "z05XRQCTmDFQ"
      }
    },
    {
      "cell_type": "markdown",
      "source": [
        "Q7. Can we add an integer and a float, if yes what will be the final datatype?\n",
        "\n",
        "Yes, an integral value can be added to a float value.\n",
        "\n",
        "The basic math operations (+, -, *, /), when given an operand of type float and int, the int is converted to float first.\n",
        "\n",
        "So 15.0f + 2 will convert 2 to float (i.e. to 2.0f) and the result is 17.0f.\n",
        "\n",
        "In your expression (float)15/2 + 15/2, since / has higher precedence than +, the effect will the same as computing ((float)15/2) + (15/2).\n",
        "\n",
        "(float)15/2 explicitly converts 15 to float and therefore implicitly converts 2 to float, yielding the final result of division as 7.5f.\n",
        "\n",
        "However, 15/2 does an integer division, so produces the result 7 (there is no implicit conversion to float here)."
      ],
      "metadata": {
        "id": "lbsV6t4YmKxD"
      }
    },
    {
      "cell_type": "markdown",
      "source": [
        "Q8. What is your understanding of the types of anomalies that can be detected and how to identify them?\n",
        "\n",
        "Solution \n",
        "There are generally three types of anomalies that can be detected: point anomalies, contextual anomalies, and collective anomalies. Point anomalies are individual instances that are significantly different from the rest of the data. Contextual anomalies are instances that are significantly different when compared to a specific context or set of conditions. Collective anomalies are groups of instances that are significantly different from the rest of the data. To identify anomalies, you can use a variety of methods, including statistical methods, data mining methods, and machine learning methods."
      ],
      "metadata": {
        "id": "qdde0bokmSge"
      }
    },
    {
      "cell_type": "code",
      "source": [
        "# Reverse the following string using for loop Input: ALMABETTER\n",
        "\n",
        "string = input()\n",
        "\n",
        "def reversed(string):\n",
        "  str = ''\n",
        "  for i in string:\n",
        "    str = i + str\n",
        "  return str\n",
        "\n",
        "print(reversed(string))"
      ],
      "metadata": {
        "id": "0ZPbQbSAI6bt",
        "colab": {
          "base_uri": "https://localhost:8080/"
        },
        "outputId": "4cd600b9-e263-46fc-97a4-64098b242814"
      },
      "execution_count": null,
      "outputs": [
        {
          "output_type": "stream",
          "name": "stdout",
          "text": [
            "almabetter\n",
            "rettebamla\n"
          ]
        }
      ]
    },
    {
      "cell_type": "markdown",
      "source": [
        " Q9.What are hard margin and soft Margin SVMs?\n",
        "\n",
        " \n",
        "Hard margin SVMs work only if the data is linearly separable and these types of SVMs are quite sensitive to the outliers. But our main objective is to find a good balance between keeping the margins as large as possible and limiting the margin violation i.e. instances that end up in the middle of margin or even on the wrong side, and this method is called soft margin SVM."
      ],
      "metadata": {
        "id": "1a-8u_OUYwk5"
      }
    },
    {
      "cell_type": "markdown",
      "source": [
        "Q10. What are the basic components of a Content-Based System?\n",
        "\n",
        "The various components of component-based systems are as follows: Preprocessing and feature extraction: Content-based systems are used in a wide variety of domains, such as Web pages, product descriptions, news, music features, and so on. In most cases, features are extracted from these various sources to convert them into a keyword-based vector-space representation. This is the first step of any content-based recommendation system, and it is highly domain-specific. However, the proper extraction of the most informative features is essential for the effective functioning of any content-based recommender system. Content-based learning of user profiles: A content-based model is specific to a given user. Therefore, a user-specific model is constructed to predict user interests in items, based on their history of either buying or rating items. To achieve this goal, user feedback is leveraged, which may be manifested in the form of previously specified ratings (explicit feedback) or user activity (implicit feedback). Such feedbacks are used in conjunction with the attributes of the items to construct the training data. A learning model is constructed on this training data. The resulting model is referred to as the user profile because it conceptually relates user interests to item attributes. Filtering and recommendation: In this step, the learned model from the previous steps is used to make recommendations on items for specific users. This step needs to be very efficient because the predictions need to be performed in real-time."
      ],
      "metadata": {
        "id": "QNBlSKevY77x"
      }
    },
    {
      "cell_type": "code",
      "source": [
        "# Q3. Write a program to check wether the given email address is valid or not\n",
        "import re \n",
        "regex = '^[a-z0-9]+[\\._]?[a-z0-9]+[@]\\w+[.]\\w{2,3}$'  \n",
        "def check(email): # and the string into the fullmatch() method \n",
        "  if(re.fullmatch(regex, email)): \n",
        "    print(\"Valid Email\") \n",
        "  else: \n",
        "    print(\"Invalid Email\")\n",
        "\n",
        "if __name__ == '__main__' :   \n",
        "      \n",
        "    email = \"rohit.gupta@mcnsolutions.net\"  \n",
        "    check(email)   \n",
        "  \n",
        "    email = \"praveen@c-sharpcorner.com\"  \n",
        "    check(email)   \n",
        "  \n",
        "    email = \"inform2atul@gmail.com\"  \n",
        "    check(email) "
      ],
      "metadata": {
        "id": "89lljfpAo2l2",
        "colab": {
          "base_uri": "https://localhost:8080/"
        },
        "outputId": "f3659ab8-f655-4d29-d89c-91abd4121315"
      },
      "execution_count": null,
      "outputs": [
        {
          "output_type": "stream",
          "name": "stdout",
          "text": [
            "Valid Email\n",
            "Invalid Email\n",
            "Valid Email\n"
          ]
        }
      ]
    },
    {
      "cell_type": "code",
      "source": [
        "import re\n",
        "\n",
        "def solve(s):\n",
        "   pat = \"^[a-zA-Z0-9-_]+@[a-zA-Z0-9]+\\.[a-z]{1,3}$\"\n",
        "   if re.match(pat,s):\n",
        "      return True\n",
        "   return False\n",
        "\n",
        "s = \"popular_website15@comPany.com\"\n",
        "print(solve(s))"
      ],
      "metadata": {
        "colab": {
          "base_uri": "https://localhost:8080/"
        },
        "id": "B9beRqvogtOF",
        "outputId": "d7cbb42f-7e46-4674-f835-5c8813ebe4bc"
      },
      "execution_count": null,
      "outputs": [
        {
          "output_type": "stream",
          "name": "stdout",
          "text": [
            "True\n"
          ]
        }
      ]
    },
    {
      "cell_type": "markdown",
      "source": [
        "Q4. What is the use of fillna()?\n",
        "\n",
        "It fills the missing values with provided input."
      ],
      "metadata": {
        "id": "DZwBLyPxc5eH"
      }
    },
    {
      "cell_type": "markdown",
      "source": [
        "What do you know about the bounce rate? What's the optimal value of the bounce rate for a website?\n",
        "The bounce rate measures the number of customers who leave the website without visiting any other page. The higher the bounce rate, the negative is the response of customers."
      ],
      "metadata": {
        "id": "jH1DYSYWDDki"
      }
    },
    {
      "cell_type": "code",
      "source": [
        "# Write a Python program to count the each character.\n",
        "\n",
        "my_string = \"hello world\" \n",
        "dict = {} \n",
        "for n in my_string: \n",
        "  keys = dict.keys() \n",
        "  if n in keys: \n",
        "    dict[n] += 1 \n",
        "  else: \n",
        "    dict[n] = 1 \n",
        "    \n",
        "    \n",
        "print(dict) \n",
        "    "
      ],
      "metadata": {
        "colab": {
          "base_uri": "https://localhost:8080/"
        },
        "id": "5LG6vseTDPrV",
        "outputId": "0cc69514-da88-4106-df18-1f930a24edaa"
      },
      "execution_count": null,
      "outputs": [
        {
          "output_type": "stream",
          "name": "stdout",
          "text": [
            "{'h': 1, 'e': 1, 'l': 3, 'o': 2, ' ': 1, 'w': 1, 'r': 1, 'd': 1}\n"
          ]
        }
      ]
    },
    {
      "cell_type": "markdown",
      "source": [],
      "metadata": {
        "id": "P_Hkc3s8ZrJ3"
      }
    }
  ]
}